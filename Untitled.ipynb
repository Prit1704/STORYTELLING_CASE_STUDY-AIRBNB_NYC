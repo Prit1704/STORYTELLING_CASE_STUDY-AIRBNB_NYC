{
 "cells": [
  {
   "cell_type": "markdown",
   "id": "082fee1a",
   "metadata": {},
   "source": [
    "# 1. IMPORT THE LIBRARIES AND READ THE DATA"
   ]
  },
  {
   "cell_type": "code",
   "execution_count": 448,
   "id": "e7f58559",
   "metadata": {},
   "outputs": [],
   "source": [
    "import numpy as np\n",
    "import pandas as pd\n",
    "import matplotlib.pyplot as plt\n",
    "import seaborn as sns"
   ]
  },
  {
   "cell_type": "code",
   "execution_count": 449,
   "id": "ebc35db9",
   "metadata": {},
   "outputs": [
    {
     "data": {
      "text/html": [
       "<div>\n",
       "<style scoped>\n",
       "    .dataframe tbody tr th:only-of-type {\n",
       "        vertical-align: middle;\n",
       "    }\n",
       "\n",
       "    .dataframe tbody tr th {\n",
       "        vertical-align: top;\n",
       "    }\n",
       "\n",
       "    .dataframe thead th {\n",
       "        text-align: right;\n",
       "    }\n",
       "</style>\n",
       "<table border=\"1\" class=\"dataframe\">\n",
       "  <thead>\n",
       "    <tr style=\"text-align: right;\">\n",
       "      <th></th>\n",
       "      <th>id</th>\n",
       "      <th>name</th>\n",
       "      <th>host_id</th>\n",
       "      <th>host_name</th>\n",
       "      <th>neighbourhood_group</th>\n",
       "      <th>neighbourhood</th>\n",
       "      <th>latitude</th>\n",
       "      <th>longitude</th>\n",
       "      <th>room_type</th>\n",
       "      <th>price</th>\n",
       "      <th>minimum_nights</th>\n",
       "      <th>number_of_reviews</th>\n",
       "      <th>last_review</th>\n",
       "      <th>reviews_per_month</th>\n",
       "      <th>calculated_host_listings_count</th>\n",
       "      <th>availability_365</th>\n",
       "    </tr>\n",
       "  </thead>\n",
       "  <tbody>\n",
       "    <tr>\n",
       "      <th>0</th>\n",
       "      <td>2539</td>\n",
       "      <td>Clean &amp; quiet apt home by the park</td>\n",
       "      <td>2787</td>\n",
       "      <td>John</td>\n",
       "      <td>Brooklyn</td>\n",
       "      <td>Kensington</td>\n",
       "      <td>40.64749</td>\n",
       "      <td>-73.97237</td>\n",
       "      <td>Private room</td>\n",
       "      <td>149</td>\n",
       "      <td>1</td>\n",
       "      <td>9</td>\n",
       "      <td>19-10-2018</td>\n",
       "      <td>0.21</td>\n",
       "      <td>6</td>\n",
       "      <td>365</td>\n",
       "    </tr>\n",
       "    <tr>\n",
       "      <th>1</th>\n",
       "      <td>2595</td>\n",
       "      <td>Skylit Midtown Castle</td>\n",
       "      <td>2845</td>\n",
       "      <td>Jennifer</td>\n",
       "      <td>Manhattan</td>\n",
       "      <td>Midtown</td>\n",
       "      <td>40.75362</td>\n",
       "      <td>-73.98377</td>\n",
       "      <td>Entire home/apt</td>\n",
       "      <td>225</td>\n",
       "      <td>1</td>\n",
       "      <td>45</td>\n",
       "      <td>21-05-2019</td>\n",
       "      <td>0.38</td>\n",
       "      <td>2</td>\n",
       "      <td>355</td>\n",
       "    </tr>\n",
       "    <tr>\n",
       "      <th>2</th>\n",
       "      <td>3647</td>\n",
       "      <td>THE VILLAGE OF HARLEM....NEW YORK !</td>\n",
       "      <td>4632</td>\n",
       "      <td>Elisabeth</td>\n",
       "      <td>Manhattan</td>\n",
       "      <td>Harlem</td>\n",
       "      <td>40.80902</td>\n",
       "      <td>-73.94190</td>\n",
       "      <td>Private room</td>\n",
       "      <td>150</td>\n",
       "      <td>3</td>\n",
       "      <td>0</td>\n",
       "      <td>NaN</td>\n",
       "      <td>NaN</td>\n",
       "      <td>1</td>\n",
       "      <td>365</td>\n",
       "    </tr>\n",
       "    <tr>\n",
       "      <th>3</th>\n",
       "      <td>3831</td>\n",
       "      <td>Cozy Entire Floor of Brownstone</td>\n",
       "      <td>4869</td>\n",
       "      <td>LisaRoxanne</td>\n",
       "      <td>Brooklyn</td>\n",
       "      <td>Clinton Hill</td>\n",
       "      <td>40.68514</td>\n",
       "      <td>-73.95976</td>\n",
       "      <td>Entire home/apt</td>\n",
       "      <td>89</td>\n",
       "      <td>1</td>\n",
       "      <td>270</td>\n",
       "      <td>05-07-2019</td>\n",
       "      <td>4.64</td>\n",
       "      <td>1</td>\n",
       "      <td>194</td>\n",
       "    </tr>\n",
       "    <tr>\n",
       "      <th>4</th>\n",
       "      <td>5022</td>\n",
       "      <td>Entire Apt: Spacious Studio/Loft by central park</td>\n",
       "      <td>7192</td>\n",
       "      <td>Laura</td>\n",
       "      <td>Manhattan</td>\n",
       "      <td>East Harlem</td>\n",
       "      <td>40.79851</td>\n",
       "      <td>-73.94399</td>\n",
       "      <td>Entire home/apt</td>\n",
       "      <td>80</td>\n",
       "      <td>10</td>\n",
       "      <td>9</td>\n",
       "      <td>19-11-2018</td>\n",
       "      <td>0.10</td>\n",
       "      <td>1</td>\n",
       "      <td>0</td>\n",
       "    </tr>\n",
       "  </tbody>\n",
       "</table>\n",
       "</div>"
      ],
      "text/plain": [
       "     id                                              name  host_id  \\\n",
       "0  2539                Clean & quiet apt home by the park     2787   \n",
       "1  2595                             Skylit Midtown Castle     2845   \n",
       "2  3647               THE VILLAGE OF HARLEM....NEW YORK !     4632   \n",
       "3  3831                   Cozy Entire Floor of Brownstone     4869   \n",
       "4  5022  Entire Apt: Spacious Studio/Loft by central park     7192   \n",
       "\n",
       "     host_name neighbourhood_group neighbourhood  latitude  longitude  \\\n",
       "0         John            Brooklyn    Kensington  40.64749  -73.97237   \n",
       "1     Jennifer           Manhattan       Midtown  40.75362  -73.98377   \n",
       "2    Elisabeth           Manhattan        Harlem  40.80902  -73.94190   \n",
       "3  LisaRoxanne            Brooklyn  Clinton Hill  40.68514  -73.95976   \n",
       "4        Laura           Manhattan   East Harlem  40.79851  -73.94399   \n",
       "\n",
       "         room_type  price  minimum_nights  number_of_reviews last_review  \\\n",
       "0     Private room    149               1                  9  19-10-2018   \n",
       "1  Entire home/apt    225               1                 45  21-05-2019   \n",
       "2     Private room    150               3                  0         NaN   \n",
       "3  Entire home/apt     89               1                270  05-07-2019   \n",
       "4  Entire home/apt     80              10                  9  19-11-2018   \n",
       "\n",
       "   reviews_per_month  calculated_host_listings_count  availability_365  \n",
       "0               0.21                               6               365  \n",
       "1               0.38                               2               355  \n",
       "2                NaN                               1               365  \n",
       "3               4.64                               1               194  \n",
       "4               0.10                               1                 0  "
      ]
     },
     "execution_count": 449,
     "metadata": {},
     "output_type": "execute_result"
    }
   ],
   "source": [
    "inp0 = pd.read_csv('AB_NYC_2019.csv')\n",
    "inp0.head()"
   ]
  },
  {
   "cell_type": "code",
   "execution_count": 450,
   "id": "4b583b31",
   "metadata": {},
   "outputs": [
    {
     "data": {
      "text/plain": [
       "(48895, 16)"
      ]
     },
     "execution_count": 450,
     "metadata": {},
     "output_type": "execute_result"
    }
   ],
   "source": [
    "inp0.shape"
   ]
  },
  {
   "cell_type": "code",
   "execution_count": 451,
   "id": "718ace2d",
   "metadata": {},
   "outputs": [
    {
     "data": {
      "text/plain": [
       "Index(['id', 'name', 'host_id', 'host_name', 'neighbourhood_group',\n",
       "       'neighbourhood', 'latitude', 'longitude', 'room_type', 'price',\n",
       "       'minimum_nights', 'number_of_reviews', 'last_review',\n",
       "       'reviews_per_month', 'calculated_host_listings_count',\n",
       "       'availability_365'],\n",
       "      dtype='object')"
      ]
     },
     "execution_count": 451,
     "metadata": {},
     "output_type": "execute_result"
    }
   ],
   "source": [
    "inp0.columns"
   ]
  },
  {
   "cell_type": "code",
   "execution_count": 452,
   "id": "326cd06a",
   "metadata": {},
   "outputs": [
    {
     "name": "stdout",
     "output_type": "stream",
     "text": [
      "<class 'pandas.core.frame.DataFrame'>\n",
      "RangeIndex: 48895 entries, 0 to 48894\n",
      "Data columns (total 16 columns):\n",
      " #   Column                          Non-Null Count  Dtype  \n",
      "---  ------                          --------------  -----  \n",
      " 0   id                              48895 non-null  int64  \n",
      " 1   name                            48879 non-null  object \n",
      " 2   host_id                         48895 non-null  int64  \n",
      " 3   host_name                       48874 non-null  object \n",
      " 4   neighbourhood_group             48895 non-null  object \n",
      " 5   neighbourhood                   48895 non-null  object \n",
      " 6   latitude                        48895 non-null  float64\n",
      " 7   longitude                       48895 non-null  float64\n",
      " 8   room_type                       48895 non-null  object \n",
      " 9   price                           48895 non-null  int64  \n",
      " 10  minimum_nights                  48895 non-null  int64  \n",
      " 11  number_of_reviews               48895 non-null  int64  \n",
      " 12  last_review                     38843 non-null  object \n",
      " 13  reviews_per_month               38843 non-null  float64\n",
      " 14  calculated_host_listings_count  48895 non-null  int64  \n",
      " 15  availability_365                48895 non-null  int64  \n",
      "dtypes: float64(3), int64(7), object(6)\n",
      "memory usage: 6.0+ MB\n"
     ]
    }
   ],
   "source": [
    "inp0.info()"
   ]
  },
  {
   "cell_type": "code",
   "execution_count": 453,
   "id": "d0bc23c1",
   "metadata": {},
   "outputs": [
    {
     "data": {
      "text/plain": [
       "id                                    0\n",
       "name                                 16\n",
       "host_id                               0\n",
       "host_name                            21\n",
       "neighbourhood_group                   0\n",
       "neighbourhood                         0\n",
       "latitude                              0\n",
       "longitude                             0\n",
       "room_type                             0\n",
       "price                                 0\n",
       "minimum_nights                        0\n",
       "number_of_reviews                     0\n",
       "last_review                       10052\n",
       "reviews_per_month                 10052\n",
       "calculated_host_listings_count        0\n",
       "availability_365                      0\n",
       "dtype: int64"
      ]
     },
     "execution_count": 453,
     "metadata": {},
     "output_type": "execute_result"
    }
   ],
   "source": [
    "inp0.isnull().sum()"
   ]
  },
  {
   "cell_type": "code",
   "execution_count": 454,
   "id": "673cca0b",
   "metadata": {},
   "outputs": [
    {
     "data": {
      "text/html": [
       "<div>\n",
       "<style scoped>\n",
       "    .dataframe tbody tr th:only-of-type {\n",
       "        vertical-align: middle;\n",
       "    }\n",
       "\n",
       "    .dataframe tbody tr th {\n",
       "        vertical-align: top;\n",
       "    }\n",
       "\n",
       "    .dataframe thead th {\n",
       "        text-align: right;\n",
       "    }\n",
       "</style>\n",
       "<table border=\"1\" class=\"dataframe\">\n",
       "  <thead>\n",
       "    <tr style=\"text-align: right;\">\n",
       "      <th></th>\n",
       "      <th>id</th>\n",
       "      <th>host_id</th>\n",
       "      <th>latitude</th>\n",
       "      <th>longitude</th>\n",
       "      <th>price</th>\n",
       "      <th>minimum_nights</th>\n",
       "      <th>number_of_reviews</th>\n",
       "      <th>reviews_per_month</th>\n",
       "      <th>calculated_host_listings_count</th>\n",
       "      <th>availability_365</th>\n",
       "    </tr>\n",
       "  </thead>\n",
       "  <tbody>\n",
       "    <tr>\n",
       "      <th>count</th>\n",
       "      <td>4.889500e+04</td>\n",
       "      <td>4.889500e+04</td>\n",
       "      <td>48895.000000</td>\n",
       "      <td>48895.000000</td>\n",
       "      <td>48895.000000</td>\n",
       "      <td>48895.000000</td>\n",
       "      <td>48895.000000</td>\n",
       "      <td>38843.000000</td>\n",
       "      <td>48895.000000</td>\n",
       "      <td>48895.000000</td>\n",
       "    </tr>\n",
       "    <tr>\n",
       "      <th>mean</th>\n",
       "      <td>1.901714e+07</td>\n",
       "      <td>6.762001e+07</td>\n",
       "      <td>40.728949</td>\n",
       "      <td>-73.952170</td>\n",
       "      <td>152.720687</td>\n",
       "      <td>7.029962</td>\n",
       "      <td>23.274466</td>\n",
       "      <td>1.373221</td>\n",
       "      <td>7.143982</td>\n",
       "      <td>112.781327</td>\n",
       "    </tr>\n",
       "    <tr>\n",
       "      <th>std</th>\n",
       "      <td>1.098311e+07</td>\n",
       "      <td>7.861097e+07</td>\n",
       "      <td>0.054530</td>\n",
       "      <td>0.046157</td>\n",
       "      <td>240.154170</td>\n",
       "      <td>20.510550</td>\n",
       "      <td>44.550582</td>\n",
       "      <td>1.680442</td>\n",
       "      <td>32.952519</td>\n",
       "      <td>131.622289</td>\n",
       "    </tr>\n",
       "    <tr>\n",
       "      <th>min</th>\n",
       "      <td>2.539000e+03</td>\n",
       "      <td>2.438000e+03</td>\n",
       "      <td>40.499790</td>\n",
       "      <td>-74.244420</td>\n",
       "      <td>0.000000</td>\n",
       "      <td>1.000000</td>\n",
       "      <td>0.000000</td>\n",
       "      <td>0.010000</td>\n",
       "      <td>1.000000</td>\n",
       "      <td>0.000000</td>\n",
       "    </tr>\n",
       "    <tr>\n",
       "      <th>25%</th>\n",
       "      <td>9.471945e+06</td>\n",
       "      <td>7.822033e+06</td>\n",
       "      <td>40.690100</td>\n",
       "      <td>-73.983070</td>\n",
       "      <td>69.000000</td>\n",
       "      <td>1.000000</td>\n",
       "      <td>1.000000</td>\n",
       "      <td>0.190000</td>\n",
       "      <td>1.000000</td>\n",
       "      <td>0.000000</td>\n",
       "    </tr>\n",
       "    <tr>\n",
       "      <th>50%</th>\n",
       "      <td>1.967728e+07</td>\n",
       "      <td>3.079382e+07</td>\n",
       "      <td>40.723070</td>\n",
       "      <td>-73.955680</td>\n",
       "      <td>106.000000</td>\n",
       "      <td>3.000000</td>\n",
       "      <td>5.000000</td>\n",
       "      <td>0.720000</td>\n",
       "      <td>1.000000</td>\n",
       "      <td>45.000000</td>\n",
       "    </tr>\n",
       "    <tr>\n",
       "      <th>75%</th>\n",
       "      <td>2.915218e+07</td>\n",
       "      <td>1.074344e+08</td>\n",
       "      <td>40.763115</td>\n",
       "      <td>-73.936275</td>\n",
       "      <td>175.000000</td>\n",
       "      <td>5.000000</td>\n",
       "      <td>24.000000</td>\n",
       "      <td>2.020000</td>\n",
       "      <td>2.000000</td>\n",
       "      <td>227.000000</td>\n",
       "    </tr>\n",
       "    <tr>\n",
       "      <th>max</th>\n",
       "      <td>3.648724e+07</td>\n",
       "      <td>2.743213e+08</td>\n",
       "      <td>40.913060</td>\n",
       "      <td>-73.712990</td>\n",
       "      <td>10000.000000</td>\n",
       "      <td>1250.000000</td>\n",
       "      <td>629.000000</td>\n",
       "      <td>58.500000</td>\n",
       "      <td>327.000000</td>\n",
       "      <td>365.000000</td>\n",
       "    </tr>\n",
       "  </tbody>\n",
       "</table>\n",
       "</div>"
      ],
      "text/plain": [
       "                 id       host_id      latitude     longitude         price  \\\n",
       "count  4.889500e+04  4.889500e+04  48895.000000  48895.000000  48895.000000   \n",
       "mean   1.901714e+07  6.762001e+07     40.728949    -73.952170    152.720687   \n",
       "std    1.098311e+07  7.861097e+07      0.054530      0.046157    240.154170   \n",
       "min    2.539000e+03  2.438000e+03     40.499790    -74.244420      0.000000   \n",
       "25%    9.471945e+06  7.822033e+06     40.690100    -73.983070     69.000000   \n",
       "50%    1.967728e+07  3.079382e+07     40.723070    -73.955680    106.000000   \n",
       "75%    2.915218e+07  1.074344e+08     40.763115    -73.936275    175.000000   \n",
       "max    3.648724e+07  2.743213e+08     40.913060    -73.712990  10000.000000   \n",
       "\n",
       "       minimum_nights  number_of_reviews  reviews_per_month  \\\n",
       "count    48895.000000       48895.000000       38843.000000   \n",
       "mean         7.029962          23.274466           1.373221   \n",
       "std         20.510550          44.550582           1.680442   \n",
       "min          1.000000           0.000000           0.010000   \n",
       "25%          1.000000           1.000000           0.190000   \n",
       "50%          3.000000           5.000000           0.720000   \n",
       "75%          5.000000          24.000000           2.020000   \n",
       "max       1250.000000         629.000000          58.500000   \n",
       "\n",
       "       calculated_host_listings_count  availability_365  \n",
       "count                    48895.000000      48895.000000  \n",
       "mean                         7.143982        112.781327  \n",
       "std                         32.952519        131.622289  \n",
       "min                          1.000000          0.000000  \n",
       "25%                          1.000000          0.000000  \n",
       "50%                          1.000000         45.000000  \n",
       "75%                          2.000000        227.000000  \n",
       "max                        327.000000        365.000000  "
      ]
     },
     "execution_count": 454,
     "metadata": {},
     "output_type": "execute_result"
    }
   ],
   "source": [
    "inp0.describe()"
   ]
  },
  {
   "cell_type": "markdown",
   "id": "631bdfb4",
   "metadata": {},
   "source": [
    "# 2. CREATING FEATURES"
   ]
  },
  {
   "cell_type": "markdown",
   "id": "2cff19a3",
   "metadata": {},
   "source": [
    "## 2.1 CATEGORISING 'AVAILABILTY 365' FEATURE INTO 5 CATEGORIES"
   ]
  },
  {
   "cell_type": "code",
   "execution_count": 455,
   "id": "96463f68",
   "metadata": {},
   "outputs": [],
   "source": [
    "def availability_365_categories_function(row):\n",
    "    \n",
    "    if row <= 1:\n",
    "        return 'very Low'\n",
    "    elif row <= 100:\n",
    "        return 'Low'\n",
    "    elif row <= 200 :\n",
    "        return 'Medium'\n",
    "    elif (row <= 300):\n",
    "        return 'High'\n",
    "    else:\n",
    "        return 'very High'"
   ]
  },
  {
   "cell_type": "code",
   "execution_count": 456,
   "id": "bfb1e416",
   "metadata": {},
   "outputs": [
    {
     "data": {
      "text/plain": [
       "0     very High\n",
       "1     very High\n",
       "2     very High\n",
       "3        Medium\n",
       "4      very Low\n",
       "5        Medium\n",
       "6      very Low\n",
       "7          High\n",
       "8      very Low\n",
       "9        Medium\n",
       "10          Low\n",
       "11          Low\n",
       "12    very High\n",
       "13    very High\n",
       "14     very Low\n",
       "Name: availabilty_365_categories, dtype: object"
      ]
     },
     "execution_count": 456,
     "metadata": {},
     "output_type": "execute_result"
    }
   ],
   "source": [
    "inp0['availabilty_365_categories'] = inp0.availability_365.map(availability_365_categories_function)\n",
    "inp0['availabilty_365_categories'].head(15)"
   ]
  },
  {
   "cell_type": "code",
   "execution_count": 457,
   "id": "ac71c5b9",
   "metadata": {},
   "outputs": [
    {
     "data": {
      "text/plain": [
       "very Low     17941\n",
       "Low          11829\n",
       "very High     8108\n",
       "Medium        5792\n",
       "High          5225\n",
       "Name: availabilty_365_categories, dtype: int64"
      ]
     },
     "execution_count": 457,
     "metadata": {},
     "output_type": "execute_result"
    }
   ],
   "source": [
    "inp0.availabilty_365_categories.value_counts()"
   ]
  },
  {
   "cell_type": "markdown",
   "id": "0ba4572c",
   "metadata": {},
   "source": [
    "## 2.2 CATEGORISING 'MINIMUM NIGHTS' COLUM INTO 5 CATEGORIES"
   ]
  },
  {
   "cell_type": "code",
   "execution_count": 458,
   "id": "49ac9812",
   "metadata": {},
   "outputs": [],
   "source": [
    "def minimum_night_categories_function(row):\n",
    "\n",
    "    if row <= 1:\n",
    "        return 'very Low'\n",
    "    elif row <= 3:\n",
    "        return 'Low'\n",
    "    elif row <= 5 :\n",
    "        return 'Medium'\n",
    "    elif (row <= 7):\n",
    "        return 'High'\n",
    "    else:\n",
    "        return 'very High'"
   ]
  },
  {
   "cell_type": "code",
   "execution_count": 459,
   "id": "2018f255",
   "metadata": {},
   "outputs": [
    {
     "data": {
      "text/plain": [
       "0      very Low\n",
       "1      very Low\n",
       "2           Low\n",
       "3      very Low\n",
       "4     very High\n",
       "5           Low\n",
       "6     very High\n",
       "7           Low\n",
       "8           Low\n",
       "9      very Low\n",
       "10       Medium\n",
       "11          Low\n",
       "12       Medium\n",
       "13          Low\n",
       "14    very High\n",
       "Name: minimum_nights_categories, dtype: object"
      ]
     },
     "execution_count": 459,
     "metadata": {},
     "output_type": "execute_result"
    }
   ],
   "source": [
    "inp0['minimum_nights_categories'] = inp0.minimum_nights.map(minimum_night_categories_function)\n",
    "inp0['minimum_nights_categories'].head(15)"
   ]
  },
  {
   "cell_type": "code",
   "execution_count": 460,
   "id": "5e0f3c5c",
   "metadata": {},
   "outputs": [
    {
     "data": {
      "text/plain": [
       "Low          19695\n",
       "very Low     12720\n",
       "very High     7333\n",
       "Medium        6337\n",
       "High          2810\n",
       "Name: minimum_nights_categories, dtype: int64"
      ]
     },
     "execution_count": 460,
     "metadata": {},
     "output_type": "execute_result"
    }
   ],
   "source": [
    "inp0.minimum_nights_categories.value_counts()"
   ]
  },
  {
   "cell_type": "markdown",
   "id": "5db8e933",
   "metadata": {},
   "source": [
    "## 2.3 categorizing  the \"number_of_reviews\" column into 5 categories"
   ]
  },
  {
   "cell_type": "code",
   "execution_count": 461,
   "id": "cc882793",
   "metadata": {},
   "outputs": [],
   "source": [
    "def number_of_reviews_categories_function(row):\n",
    "    \n",
    "    if row <= 1:\n",
    "        return 'very Low'\n",
    "    elif row <= 5:\n",
    "        return 'Low'\n",
    "    elif row <= 10 :\n",
    "        return 'Medium'\n",
    "    elif (row <= 30):\n",
    "        return 'High'\n",
    "    else:\n",
    "        return 'very High'"
   ]
  },
  {
   "cell_type": "code",
   "execution_count": 462,
   "id": "00433014",
   "metadata": {},
   "outputs": [
    {
     "data": {
      "text/plain": [
       "0     very Low\n",
       "1     very Low\n",
       "2          Low\n",
       "3     very Low\n",
       "4       Medium\n",
       "5          Low\n",
       "6    very High\n",
       "7          Low\n",
       "8          Low\n",
       "9     very Low\n",
       "Name: number_of_reviews_categories, dtype: object"
      ]
     },
     "execution_count": 462,
     "metadata": {},
     "output_type": "execute_result"
    }
   ],
   "source": [
    "inp0['number_of_reviews_categories'] = inp0.minimum_nights.map(number_of_reviews_categories_function)\n",
    "inp0['number_of_reviews_categories'].head(10)"
   ]
  },
  {
   "cell_type": "code",
   "execution_count": 463,
   "id": "abc1f0f8",
   "metadata": {},
   "outputs": [
    {
     "data": {
      "text/plain": [
       "Low          26032\n",
       "very Low     12720\n",
       "High          5893\n",
       "Medium        3503\n",
       "very High      747\n",
       "Name: number_of_reviews_categories, dtype: int64"
      ]
     },
     "execution_count": 463,
     "metadata": {},
     "output_type": "execute_result"
    }
   ],
   "source": [
    "inp0.number_of_reviews_categories.value_counts()"
   ]
  },
  {
   "cell_type": "markdown",
   "id": "778e8ce6",
   "metadata": {},
   "source": [
    "## 2.4 categorising 'price' column into 5 category"
   ]
  },
  {
   "cell_type": "code",
   "execution_count": 464,
   "id": "9b71d29b",
   "metadata": {},
   "outputs": [
    {
     "data": {
      "text/plain": [
       "count    48895.000000\n",
       "mean       152.720687\n",
       "std        240.154170\n",
       "min          0.000000\n",
       "25%         69.000000\n",
       "50%        106.000000\n",
       "75%        175.000000\n",
       "max      10000.000000\n",
       "Name: price, dtype: float64"
      ]
     },
     "execution_count": 464,
     "metadata": {},
     "output_type": "execute_result"
    }
   ],
   "source": [
    "inp0.price.describe()"
   ]
  },
  {
   "cell_type": "code",
   "execution_count": 465,
   "id": "ecbbb4a8",
   "metadata": {},
   "outputs": [
    {
     "data": {
      "image/png": "[encoded data removed]",
      "text/plain": [
       "<Figure size 640x480 with 1 Axes>"
      ]
     },
     "metadata": {},
     "output_type": "display_data"
    }
   ],
   "source": [
    "plt.boxplot(inp0.price)\n",
    "plt.show()"
   ]
  },
  {
   "cell_type": "code",
   "execution_count": 466,
   "id": "e62b699a",
   "metadata": {},
   "outputs": [
    {
     "data": {
      "text/plain": [
       "(11, 19)"
      ]
     },
     "execution_count": 466,
     "metadata": {},
     "output_type": "execute_result"
    }
   ],
   "source": [
    "inp0[inp0.price == 0].shape"
   ]
  },
  {
   "cell_type": "code",
   "execution_count": 467,
   "id": "a29b1ac1",
   "metadata": {},
   "outputs": [],
   "source": [
    "def price_categories_function(row):\n",
    "    \n",
    "    if row <= 1:\n",
    "        return 'very Low'\n",
    "    elif row <= 4:\n",
    "        return 'Low'\n",
    "    elif row <= 15 :\n",
    "        return 'Medium'\n",
    "    elif (row <= 100):\n",
    "        return 'High'\n",
    "    else:\n",
    "        return 'very High'"
   ]
  },
  {
   "cell_type": "code",
   "execution_count": 468,
   "id": "f1f8953e",
   "metadata": {},
   "outputs": [
    {
     "data": {
      "text/plain": [
       "0    very Low\n",
       "1    very Low\n",
       "2         Low\n",
       "3    very Low\n",
       "4      Medium\n",
       "5         Low\n",
       "6        High\n",
       "7         Low\n",
       "8         Low\n",
       "9    very Low\n",
       "Name: price_categories, dtype: object"
      ]
     },
     "execution_count": 468,
     "metadata": {},
     "output_type": "execute_result"
    }
   ],
   "source": [
    "inp0['price_categories'] = inp0.minimum_nights.map(price_categories_function)\n",
    "inp0['price_categories'].head(10)"
   ]
  },
  {
   "cell_type": "code",
   "execution_count": 469,
   "id": "142fa8f1",
   "metadata": {},
   "outputs": [
    {
     "data": {
      "text/plain": [
       "Low          22998\n",
       "very Low     12720\n",
       "Medium        7556\n",
       "High          5447\n",
       "very High      174\n",
       "Name: price_categories, dtype: int64"
      ]
     },
     "execution_count": 469,
     "metadata": {},
     "output_type": "execute_result"
    }
   ],
   "source": [
    "inp0.price_categories.value_counts()"
   ]
  },
  {
   "cell_type": "markdown",
   "id": "9a8ee4cf",
   "metadata": {},
   "source": [
    "# 3. FIXING COLUMNS"
   ]
  },
  {
   "cell_type": "code",
   "execution_count": 470,
   "id": "fb110699",
   "metadata": {},
   "outputs": [
    {
     "name": "stdout",
     "output_type": "stream",
     "text": [
      "<class 'pandas.core.frame.DataFrame'>\n",
      "RangeIndex: 48895 entries, 0 to 48894\n",
      "Data columns (total 20 columns):\n",
      " #   Column                          Non-Null Count  Dtype  \n",
      "---  ------                          --------------  -----  \n",
      " 0   id                              48895 non-null  int64  \n",
      " 1   name                            48879 non-null  object \n",
      " 2   host_id                         48895 non-null  int64  \n",
      " 3   host_name                       48874 non-null  object \n",
      " 4   neighbourhood_group             48895 non-null  object \n",
      " 5   neighbourhood                   48895 non-null  object \n",
      " 6   latitude                        48895 non-null  float64\n",
      " 7   longitude                       48895 non-null  float64\n",
      " 8   room_type                       48895 non-null  object \n",
      " 9   price                           48895 non-null  int64  \n",
      " 10  minimum_nights                  48895 non-null  int64  \n",
      " 11  number_of_reviews               48895 non-null  int64  \n",
      " 12  last_review                     38843 non-null  object \n",
      " 13  reviews_per_month               38843 non-null  float64\n",
      " 14  calculated_host_listings_count  48895 non-null  int64  \n",
      " 15  availability_365                48895 non-null  int64  \n",
      " 16  availabilty_365_categories      48895 non-null  object \n",
      " 17  minimum_nights_categories       48895 non-null  object \n",
      " 18  number_of_reviews_categories    48895 non-null  object \n",
      " 19  price_categories                48895 non-null  object \n",
      "dtypes: float64(3), int64(7), object(10)\n",
      "memory usage: 7.5+ MB\n"
     ]
    }
   ],
   "source": [
    "inp0.info()"
   ]
  },
  {
   "cell_type": "code",
   "execution_count": 471,
   "id": "18a20027",
   "metadata": {},
   "outputs": [
    {
     "data": {
      "text/plain": [
       "dtype('O')"
      ]
     },
     "execution_count": 471,
     "metadata": {},
     "output_type": "execute_result"
    }
   ],
   "source": [
    "inp0.last_review.dtype"
   ]
  },
  {
   "cell_type": "code",
   "execution_count": 472,
   "id": "415af713",
   "metadata": {},
   "outputs": [
    {
     "name": "stderr",
     "output_type": "stream",
     "text": [
      "C:\\Users\\Administrator\\AppData\\Local\\Temp\\ipykernel_15496\\875808853.py:1: UserWarning: Parsing dates in DD/MM/YYYY format when dayfirst=False (the default) was specified. This may lead to inconsistently parsed dates! Specify a format to ensure consistent parsing.\n",
      "  inp0.last_review = pd.to_datetime(inp0.last_review)\n"
     ]
    },
    {
     "data": {
      "text/plain": [
       "0       2018-10-19\n",
       "1       2019-05-21\n",
       "2              NaT\n",
       "3       2019-05-07\n",
       "4       2018-11-19\n",
       "           ...    \n",
       "48890          NaT\n",
       "48891          NaT\n",
       "48892          NaT\n",
       "48893          NaT\n",
       "48894          NaT\n",
       "Name: last_review, Length: 48895, dtype: datetime64[ns]"
      ]
     },
     "execution_count": 472,
     "metadata": {},
     "output_type": "execute_result"
    }
   ],
   "source": [
    "inp0.last_review = pd.to_datetime(inp0.last_review)\n",
    "inp0.last_review"
   ]
  },
  {
   "cell_type": "code",
   "execution_count": 473,
   "id": "34bb444a",
   "metadata": {},
   "outputs": [
    {
     "data": {
      "text/plain": [
       "dtype('<M8[ns]')"
      ]
     },
     "execution_count": 473,
     "metadata": {},
     "output_type": "execute_result"
    }
   ],
   "source": [
    "inp0.last_review.dtypes"
   ]
  },
  {
   "cell_type": "code",
   "execution_count": 474,
   "id": "1e9d2606",
   "metadata": {},
   "outputs": [
    {
     "name": "stdout",
     "output_type": "stream",
     "text": [
      "[Index(['id', 'name', 'host_id', 'host_name', 'neighbourhood_group',\n",
      "       'neighbourhood', 'latitude', 'longitude', 'room_type', 'price',\n",
      "       'minimum_nights', 'number_of_reviews', 'last_review',\n",
      "       'reviews_per_month', 'calculated_host_listings_count',\n",
      "       'availability_365', 'availabilty_365_categories',\n",
      "       'minimum_nights_categories', 'number_of_reviews_categories',\n",
      "       'price_categories'],\n",
      "      dtype='object')]\n"
     ]
    }
   ],
   "source": [
    "print([inp0.columns])"
   ]
  },
  {
   "cell_type": "markdown",
   "id": "bb2601e9",
   "metadata": {},
   "source": [
    "#  4. DATA TYPES"
   ]
  },
  {
   "cell_type": "markdown",
   "id": "456513dc",
   "metadata": {},
   "source": [
    "## 4.1 CATEGORICAL COLOMS"
   ]
  },
  {
   "cell_type": "code",
   "execution_count": 475,
   "id": "aca912e6",
   "metadata": {},
   "outputs": [
    {
     "data": {
      "text/plain": [
       "Index(['id', 'name', 'host_id', 'host_name', 'neighbourhood_group',\n",
       "       'neighbourhood', 'latitude', 'longitude', 'room_type', 'price',\n",
       "       'minimum_nights', 'number_of_reviews', 'last_review',\n",
       "       'reviews_per_month', 'calculated_host_listings_count',\n",
       "       'availability_365', 'availabilty_365_categories',\n",
       "       'minimum_nights_categories', 'number_of_reviews_categories',\n",
       "       'price_categories'],\n",
       "      dtype='object')"
      ]
     },
     "execution_count": 475,
     "metadata": {},
     "output_type": "execute_result"
    }
   ],
   "source": [
    "inp0.columns"
   ]
  },
  {
   "cell_type": "code",
   "execution_count": 476,
   "id": "f7725755",
   "metadata": {},
   "outputs": [
    {
     "data": {
      "text/plain": [
       "['name',\n",
       " 'host_name',\n",
       " 'neighbourhood_group',\n",
       " 'neighbourhood',\n",
       " 'room_type',\n",
       " 'availabilty_365_categories',\n",
       " 'minimum_nights_categories',\n",
       " 'number_of_reviews_categories',\n",
       " 'price_categories']"
      ]
     },
     "execution_count": 476,
     "metadata": {},
     "output_type": "execute_result"
    }
   ],
   "source": [
    "categorical_columns = inp0.select_dtypes(include=['object']).columns.tolist()\n",
    "categorical_columns"
   ]
  },
  {
   "cell_type": "code",
   "execution_count": 477,
   "id": "7c58f4b5",
   "metadata": {},
   "outputs": [
    {
     "data": {
      "text/html": [
       "<div>\n",
       "<style scoped>\n",
       "    .dataframe tbody tr th:only-of-type {\n",
       "        vertical-align: middle;\n",
       "    }\n",
       "\n",
       "    .dataframe tbody tr th {\n",
       "        vertical-align: top;\n",
       "    }\n",
       "\n",
       "    .dataframe thead th {\n",
       "        text-align: right;\n",
       "    }\n",
       "</style>\n",
       "<table border=\"1\" class=\"dataframe\">\n",
       "  <thead>\n",
       "    <tr style=\"text-align: right;\">\n",
       "      <th></th>\n",
       "      <th>name</th>\n",
       "      <th>host_name</th>\n",
       "      <th>neighbourhood_group</th>\n",
       "      <th>neighbourhood</th>\n",
       "      <th>room_type</th>\n",
       "      <th>availabilty_365_categories</th>\n",
       "      <th>minimum_nights_categories</th>\n",
       "      <th>number_of_reviews_categories</th>\n",
       "      <th>price_categories</th>\n",
       "    </tr>\n",
       "  </thead>\n",
       "  <tbody>\n",
       "    <tr>\n",
       "      <th>0</th>\n",
       "      <td>Clean &amp; quiet apt home by the park</td>\n",
       "      <td>John</td>\n",
       "      <td>Brooklyn</td>\n",
       "      <td>Kensington</td>\n",
       "      <td>Private room</td>\n",
       "      <td>very High</td>\n",
       "      <td>very Low</td>\n",
       "      <td>very Low</td>\n",
       "      <td>very Low</td>\n",
       "    </tr>\n",
       "    <tr>\n",
       "      <th>1</th>\n",
       "      <td>Skylit Midtown Castle</td>\n",
       "      <td>Jennifer</td>\n",
       "      <td>Manhattan</td>\n",
       "      <td>Midtown</td>\n",
       "      <td>Entire home/apt</td>\n",
       "      <td>very High</td>\n",
       "      <td>very Low</td>\n",
       "      <td>very Low</td>\n",
       "      <td>very Low</td>\n",
       "    </tr>\n",
       "    <tr>\n",
       "      <th>2</th>\n",
       "      <td>THE VILLAGE OF HARLEM....NEW YORK !</td>\n",
       "      <td>Elisabeth</td>\n",
       "      <td>Manhattan</td>\n",
       "      <td>Harlem</td>\n",
       "      <td>Private room</td>\n",
       "      <td>very High</td>\n",
       "      <td>Low</td>\n",
       "      <td>Low</td>\n",
       "      <td>Low</td>\n",
       "    </tr>\n",
       "    <tr>\n",
       "      <th>3</th>\n",
       "      <td>Cozy Entire Floor of Brownstone</td>\n",
       "      <td>LisaRoxanne</td>\n",
       "      <td>Brooklyn</td>\n",
       "      <td>Clinton Hill</td>\n",
       "      <td>Entire home/apt</td>\n",
       "      <td>Medium</td>\n",
       "      <td>very Low</td>\n",
       "      <td>very Low</td>\n",
       "      <td>very Low</td>\n",
       "    </tr>\n",
       "    <tr>\n",
       "      <th>4</th>\n",
       "      <td>Entire Apt: Spacious Studio/Loft by central park</td>\n",
       "      <td>Laura</td>\n",
       "      <td>Manhattan</td>\n",
       "      <td>East Harlem</td>\n",
       "      <td>Entire home/apt</td>\n",
       "      <td>very Low</td>\n",
       "      <td>very High</td>\n",
       "      <td>Medium</td>\n",
       "      <td>Medium</td>\n",
       "    </tr>\n",
       "  </tbody>\n",
       "</table>\n",
       "</div>"
      ],
      "text/plain": [
       "                                               name    host_name  \\\n",
       "0                Clean & quiet apt home by the park         John   \n",
       "1                             Skylit Midtown Castle     Jennifer   \n",
       "2               THE VILLAGE OF HARLEM....NEW YORK !    Elisabeth   \n",
       "3                   Cozy Entire Floor of Brownstone  LisaRoxanne   \n",
       "4  Entire Apt: Spacious Studio/Loft by central park        Laura   \n",
       "\n",
       "  neighbourhood_group neighbourhood        room_type  \\\n",
       "0            Brooklyn    Kensington     Private room   \n",
       "1           Manhattan       Midtown  Entire home/apt   \n",
       "2           Manhattan        Harlem     Private room   \n",
       "3            Brooklyn  Clinton Hill  Entire home/apt   \n",
       "4           Manhattan   East Harlem  Entire home/apt   \n",
       "\n",
       "  availabilty_365_categories minimum_nights_categories  \\\n",
       "0                  very High                  very Low   \n",
       "1                  very High                  very Low   \n",
       "2                  very High                       Low   \n",
       "3                     Medium                  very Low   \n",
       "4                   very Low                 very High   \n",
       "\n",
       "  number_of_reviews_categories price_categories  \n",
       "0                     very Low         very Low  \n",
       "1                     very Low         very Low  \n",
       "2                          Low              Low  \n",
       "3                     very Low         very Low  \n",
       "4                       Medium           Medium  "
      ]
     },
     "execution_count": 477,
     "metadata": {},
     "output_type": "execute_result"
    }
   ],
   "source": [
    "inp0[categorical_columns].head()"
   ]
  },
  {
   "cell_type": "markdown",
   "id": "f0fe42a4",
   "metadata": {},
   "source": [
    "## 4.2 NUMERICAL COLOMS"
   ]
  },
  {
   "cell_type": "code",
   "execution_count": 478,
   "id": "52663282",
   "metadata": {},
   "outputs": [
    {
     "data": {
      "text/plain": [
       "['id',\n",
       " 'host_id',\n",
       " 'price',\n",
       " 'minimum_nights',\n",
       " 'number_of_reviews',\n",
       " 'calculated_host_listings_count',\n",
       " 'availability_365']"
      ]
     },
     "execution_count": 478,
     "metadata": {},
     "output_type": "execute_result"
    }
   ],
   "source": [
    "numerical_columns = inp0.select_dtypes(include=['int64']).columns.tolist()\n",
    "numerical_columns"
   ]
  },
  {
   "cell_type": "code",
   "execution_count": 479,
   "id": "3f6f8f70",
   "metadata": {},
   "outputs": [
    {
     "data": {
      "text/html": [
       "<div>\n",
       "<style scoped>\n",
       "    .dataframe tbody tr th:only-of-type {\n",
       "        vertical-align: middle;\n",
       "    }\n",
       "\n",
       "    .dataframe tbody tr th {\n",
       "        vertical-align: top;\n",
       "    }\n",
       "\n",
       "    .dataframe thead th {\n",
       "        text-align: right;\n",
       "    }\n",
       "</style>\n",
       "<table border=\"1\" class=\"dataframe\">\n",
       "  <thead>\n",
       "    <tr style=\"text-align: right;\">\n",
       "      <th></th>\n",
       "      <th>id</th>\n",
       "      <th>host_id</th>\n",
       "      <th>price</th>\n",
       "      <th>minimum_nights</th>\n",
       "      <th>number_of_reviews</th>\n",
       "      <th>calculated_host_listings_count</th>\n",
       "      <th>availability_365</th>\n",
       "    </tr>\n",
       "  </thead>\n",
       "  <tbody>\n",
       "    <tr>\n",
       "      <th>0</th>\n",
       "      <td>2539</td>\n",
       "      <td>2787</td>\n",
       "      <td>149</td>\n",
       "      <td>1</td>\n",
       "      <td>9</td>\n",
       "      <td>6</td>\n",
       "      <td>365</td>\n",
       "    </tr>\n",
       "    <tr>\n",
       "      <th>1</th>\n",
       "      <td>2595</td>\n",
       "      <td>2845</td>\n",
       "      <td>225</td>\n",
       "      <td>1</td>\n",
       "      <td>45</td>\n",
       "      <td>2</td>\n",
       "      <td>355</td>\n",
       "    </tr>\n",
       "    <tr>\n",
       "      <th>2</th>\n",
       "      <td>3647</td>\n",
       "      <td>4632</td>\n",
       "      <td>150</td>\n",
       "      <td>3</td>\n",
       "      <td>0</td>\n",
       "      <td>1</td>\n",
       "      <td>365</td>\n",
       "    </tr>\n",
       "    <tr>\n",
       "      <th>3</th>\n",
       "      <td>3831</td>\n",
       "      <td>4869</td>\n",
       "      <td>89</td>\n",
       "      <td>1</td>\n",
       "      <td>270</td>\n",
       "      <td>1</td>\n",
       "      <td>194</td>\n",
       "    </tr>\n",
       "    <tr>\n",
       "      <th>4</th>\n",
       "      <td>5022</td>\n",
       "      <td>7192</td>\n",
       "      <td>80</td>\n",
       "      <td>10</td>\n",
       "      <td>9</td>\n",
       "      <td>1</td>\n",
       "      <td>0</td>\n",
       "    </tr>\n",
       "  </tbody>\n",
       "</table>\n",
       "</div>"
      ],
      "text/plain": [
       "     id  host_id  price  minimum_nights  number_of_reviews  \\\n",
       "0  2539     2787    149               1                  9   \n",
       "1  2595     2845    225               1                 45   \n",
       "2  3647     4632    150               3                  0   \n",
       "3  3831     4869     89               1                270   \n",
       "4  5022     7192     80              10                  9   \n",
       "\n",
       "   calculated_host_listings_count  availability_365  \n",
       "0                               6               365  \n",
       "1                               2               355  \n",
       "2                               1               365  \n",
       "3                               1               194  \n",
       "4                               1                 0  "
      ]
     },
     "execution_count": 479,
     "metadata": {},
     "output_type": "execute_result"
    }
   ],
   "source": [
    "inp0[numerical_columns].head()"
   ]
  },
  {
   "cell_type": "code",
   "execution_count": 480,
   "id": "5df34f3e",
   "metadata": {},
   "outputs": [
    {
     "data": {
      "text/html": [
       "<div>\n",
       "<style scoped>\n",
       "    .dataframe tbody tr th:only-of-type {\n",
       "        vertical-align: middle;\n",
       "    }\n",
       "\n",
       "    .dataframe tbody tr th {\n",
       "        vertical-align: top;\n",
       "    }\n",
       "\n",
       "    .dataframe thead th {\n",
       "        text-align: right;\n",
       "    }\n",
       "</style>\n",
       "<table border=\"1\" class=\"dataframe\">\n",
       "  <thead>\n",
       "    <tr style=\"text-align: right;\">\n",
       "      <th></th>\n",
       "      <th>id</th>\n",
       "      <th>host_id</th>\n",
       "      <th>price</th>\n",
       "      <th>minimum_nights</th>\n",
       "      <th>number_of_reviews</th>\n",
       "      <th>calculated_host_listings_count</th>\n",
       "      <th>availability_365</th>\n",
       "    </tr>\n",
       "  </thead>\n",
       "  <tbody>\n",
       "    <tr>\n",
       "      <th>count</th>\n",
       "      <td>4.889500e+04</td>\n",
       "      <td>4.889500e+04</td>\n",
       "      <td>48895.000000</td>\n",
       "      <td>48895.000000</td>\n",
       "      <td>48895.000000</td>\n",
       "      <td>48895.000000</td>\n",
       "      <td>48895.000000</td>\n",
       "    </tr>\n",
       "    <tr>\n",
       "      <th>mean</th>\n",
       "      <td>1.901714e+07</td>\n",
       "      <td>6.762001e+07</td>\n",
       "      <td>152.720687</td>\n",
       "      <td>7.029962</td>\n",
       "      <td>23.274466</td>\n",
       "      <td>7.143982</td>\n",
       "      <td>112.781327</td>\n",
       "    </tr>\n",
       "    <tr>\n",
       "      <th>std</th>\n",
       "      <td>1.098311e+07</td>\n",
       "      <td>7.861097e+07</td>\n",
       "      <td>240.154170</td>\n",
       "      <td>20.510550</td>\n",
       "      <td>44.550582</td>\n",
       "      <td>32.952519</td>\n",
       "      <td>131.622289</td>\n",
       "    </tr>\n",
       "    <tr>\n",
       "      <th>min</th>\n",
       "      <td>2.539000e+03</td>\n",
       "      <td>2.438000e+03</td>\n",
       "      <td>0.000000</td>\n",
       "      <td>1.000000</td>\n",
       "      <td>0.000000</td>\n",
       "      <td>1.000000</td>\n",
       "      <td>0.000000</td>\n",
       "    </tr>\n",
       "    <tr>\n",
       "      <th>25%</th>\n",
       "      <td>9.471945e+06</td>\n",
       "      <td>7.822033e+06</td>\n",
       "      <td>69.000000</td>\n",
       "      <td>1.000000</td>\n",
       "      <td>1.000000</td>\n",
       "      <td>1.000000</td>\n",
       "      <td>0.000000</td>\n",
       "    </tr>\n",
       "    <tr>\n",
       "      <th>50%</th>\n",
       "      <td>1.967728e+07</td>\n",
       "      <td>3.079382e+07</td>\n",
       "      <td>106.000000</td>\n",
       "      <td>3.000000</td>\n",
       "      <td>5.000000</td>\n",
       "      <td>1.000000</td>\n",
       "      <td>45.000000</td>\n",
       "    </tr>\n",
       "    <tr>\n",
       "      <th>75%</th>\n",
       "      <td>2.915218e+07</td>\n",
       "      <td>1.074344e+08</td>\n",
       "      <td>175.000000</td>\n",
       "      <td>5.000000</td>\n",
       "      <td>24.000000</td>\n",
       "      <td>2.000000</td>\n",
       "      <td>227.000000</td>\n",
       "    </tr>\n",
       "    <tr>\n",
       "      <th>max</th>\n",
       "      <td>3.648724e+07</td>\n",
       "      <td>2.743213e+08</td>\n",
       "      <td>10000.000000</td>\n",
       "      <td>1250.000000</td>\n",
       "      <td>629.000000</td>\n",
       "      <td>327.000000</td>\n",
       "      <td>365.000000</td>\n",
       "    </tr>\n",
       "  </tbody>\n",
       "</table>\n",
       "</div>"
      ],
      "text/plain": [
       "                 id       host_id         price  minimum_nights  \\\n",
       "count  4.889500e+04  4.889500e+04  48895.000000    48895.000000   \n",
       "mean   1.901714e+07  6.762001e+07    152.720687        7.029962   \n",
       "std    1.098311e+07  7.861097e+07    240.154170       20.510550   \n",
       "min    2.539000e+03  2.438000e+03      0.000000        1.000000   \n",
       "25%    9.471945e+06  7.822033e+06     69.000000        1.000000   \n",
       "50%    1.967728e+07  3.079382e+07    106.000000        3.000000   \n",
       "75%    2.915218e+07  1.074344e+08    175.000000        5.000000   \n",
       "max    3.648724e+07  2.743213e+08  10000.000000     1250.000000   \n",
       "\n",
       "       number_of_reviews  calculated_host_listings_count  availability_365  \n",
       "count       48895.000000                    48895.000000      48895.000000  \n",
       "mean           23.274466                        7.143982        112.781327  \n",
       "std            44.550582                       32.952519        131.622289  \n",
       "min             0.000000                        1.000000          0.000000  \n",
       "25%             1.000000                        1.000000          0.000000  \n",
       "50%             5.000000                        1.000000         45.000000  \n",
       "75%            24.000000                        2.000000        227.000000  \n",
       "max           629.000000                      327.000000        365.000000  "
      ]
     },
     "execution_count": 480,
     "metadata": {},
     "output_type": "execute_result"
    }
   ],
   "source": [
    "inp0[numerical_columns].describe()"
   ]
  },
  {
   "cell_type": "markdown",
   "id": "bef068c7",
   "metadata": {},
   "source": [
    "# 5. MISSING VALUES"
   ]
  },
  {
   "cell_type": "code",
   "execution_count": 481,
   "id": "b467b39b",
   "metadata": {},
   "outputs": [
    {
     "data": {
      "text/plain": [
       "id                                    0\n",
       "name                                 16\n",
       "host_id                               0\n",
       "host_name                            21\n",
       "neighbourhood_group                   0\n",
       "neighbourhood                         0\n",
       "latitude                              0\n",
       "longitude                             0\n",
       "room_type                             0\n",
       "price                                 0\n",
       "minimum_nights                        0\n",
       "number_of_reviews                     0\n",
       "last_review                       10052\n",
       "reviews_per_month                 10052\n",
       "calculated_host_listings_count        0\n",
       "availability_365                      0\n",
       "availabilty_365_categories            0\n",
       "minimum_nights_categories             0\n",
       "number_of_reviews_categories          0\n",
       "price_categories                      0\n",
       "dtype: int64"
      ]
     },
     "execution_count": 481,
     "metadata": {},
     "output_type": "execute_result"
    }
   ],
   "source": [
    "inp0.isnull().sum()"
   ]
  },
  {
   "cell_type": "code",
   "execution_count": 482,
   "id": "4c978f45",
   "metadata": {},
   "outputs": [
    {
     "data": {
      "text/plain": [
       "id                                 0.00\n",
       "name                               0.03\n",
       "host_id                            0.00\n",
       "host_name                          0.04\n",
       "neighbourhood_group                0.00\n",
       "neighbourhood                      0.00\n",
       "latitude                           0.00\n",
       "longitude                          0.00\n",
       "room_type                          0.00\n",
       "price                              0.00\n",
       "minimum_nights                     0.00\n",
       "number_of_reviews                  0.00\n",
       "last_review                       20.56\n",
       "reviews_per_month                 20.56\n",
       "calculated_host_listings_count     0.00\n",
       "availability_365                   0.00\n",
       "availabilty_365_categories         0.00\n",
       "minimum_nights_categories          0.00\n",
       "number_of_reviews_categories       0.00\n",
       "price_categories                   0.00\n",
       "dtype: float64"
      ]
     },
     "execution_count": 482,
     "metadata": {},
     "output_type": "execute_result"
    }
   ],
   "source": [
    "round(100*inp0.isnull().sum()/len(inp0),2)"
   ]
  },
  {
   "cell_type": "markdown",
   "id": "f03df966",
   "metadata": {},
   "source": [
    "## 5.1 MISSING VALUE ANALYSIS"
   ]
  },
  {
   "cell_type": "code",
   "execution_count": 483,
   "id": "5c85f77b",
   "metadata": {},
   "outputs": [
    {
     "data": {
      "text/html": [
       "<div>\n",
       "<style scoped>\n",
       "    .dataframe tbody tr th:only-of-type {\n",
       "        vertical-align: middle;\n",
       "    }\n",
       "\n",
       "    .dataframe tbody tr th {\n",
       "        vertical-align: top;\n",
       "    }\n",
       "\n",
       "    .dataframe thead th {\n",
       "        text-align: right;\n",
       "    }\n",
       "</style>\n",
       "<table border=\"1\" class=\"dataframe\">\n",
       "  <thead>\n",
       "    <tr style=\"text-align: right;\">\n",
       "      <th></th>\n",
       "      <th>id</th>\n",
       "      <th>name</th>\n",
       "      <th>host_id</th>\n",
       "      <th>host_name</th>\n",
       "      <th>neighbourhood_group</th>\n",
       "      <th>neighbourhood</th>\n",
       "      <th>latitude</th>\n",
       "      <th>longitude</th>\n",
       "      <th>room_type</th>\n",
       "      <th>price</th>\n",
       "      <th>minimum_nights</th>\n",
       "      <th>number_of_reviews</th>\n",
       "      <th>last_review</th>\n",
       "      <th>reviews_per_month</th>\n",
       "      <th>calculated_host_listings_count</th>\n",
       "      <th>availability_365</th>\n",
       "      <th>availabilty_365_categories</th>\n",
       "      <th>minimum_nights_categories</th>\n",
       "      <th>number_of_reviews_categories</th>\n",
       "      <th>price_categories</th>\n",
       "    </tr>\n",
       "  </thead>\n",
       "  <tbody>\n",
       "    <tr>\n",
       "      <th>2</th>\n",
       "      <td>3647</td>\n",
       "      <td>THE VILLAGE OF HARLEM....NEW YORK !</td>\n",
       "      <td>4632</td>\n",
       "      <td>Elisabeth</td>\n",
       "      <td>Manhattan</td>\n",
       "      <td>Harlem</td>\n",
       "      <td>40.80902</td>\n",
       "      <td>-73.94190</td>\n",
       "      <td>Private room</td>\n",
       "      <td>150</td>\n",
       "      <td>3</td>\n",
       "      <td>0</td>\n",
       "      <td>NaT</td>\n",
       "      <td>NaN</td>\n",
       "      <td>1</td>\n",
       "      <td>365</td>\n",
       "      <td>very High</td>\n",
       "      <td>Low</td>\n",
       "      <td>Low</td>\n",
       "      <td>Low</td>\n",
       "    </tr>\n",
       "    <tr>\n",
       "      <th>19</th>\n",
       "      <td>7750</td>\n",
       "      <td>Huge 2 BR Upper East  Cental Park</td>\n",
       "      <td>17985</td>\n",
       "      <td>Sing</td>\n",
       "      <td>Manhattan</td>\n",
       "      <td>East Harlem</td>\n",
       "      <td>40.79685</td>\n",
       "      <td>-73.94872</td>\n",
       "      <td>Entire home/apt</td>\n",
       "      <td>190</td>\n",
       "      <td>7</td>\n",
       "      <td>0</td>\n",
       "      <td>NaT</td>\n",
       "      <td>NaN</td>\n",
       "      <td>2</td>\n",
       "      <td>249</td>\n",
       "      <td>High</td>\n",
       "      <td>High</td>\n",
       "      <td>Medium</td>\n",
       "      <td>Medium</td>\n",
       "    </tr>\n",
       "    <tr>\n",
       "      <th>26</th>\n",
       "      <td>8700</td>\n",
       "      <td>Magnifique Suite au N de Manhattan - vue Cloitres</td>\n",
       "      <td>26394</td>\n",
       "      <td>Claude &amp; Sophie</td>\n",
       "      <td>Manhattan</td>\n",
       "      <td>Inwood</td>\n",
       "      <td>40.86754</td>\n",
       "      <td>-73.92639</td>\n",
       "      <td>Private room</td>\n",
       "      <td>80</td>\n",
       "      <td>4</td>\n",
       "      <td>0</td>\n",
       "      <td>NaT</td>\n",
       "      <td>NaN</td>\n",
       "      <td>1</td>\n",
       "      <td>0</td>\n",
       "      <td>very Low</td>\n",
       "      <td>Medium</td>\n",
       "      <td>Low</td>\n",
       "      <td>Low</td>\n",
       "    </tr>\n",
       "    <tr>\n",
       "      <th>36</th>\n",
       "      <td>11452</td>\n",
       "      <td>Clean and Quiet in Brooklyn</td>\n",
       "      <td>7355</td>\n",
       "      <td>Vt</td>\n",
       "      <td>Brooklyn</td>\n",
       "      <td>Bedford-Stuyvesant</td>\n",
       "      <td>40.68876</td>\n",
       "      <td>-73.94312</td>\n",
       "      <td>Private room</td>\n",
       "      <td>35</td>\n",
       "      <td>60</td>\n",
       "      <td>0</td>\n",
       "      <td>NaT</td>\n",
       "      <td>NaN</td>\n",
       "      <td>1</td>\n",
       "      <td>365</td>\n",
       "      <td>very High</td>\n",
       "      <td>very High</td>\n",
       "      <td>very High</td>\n",
       "      <td>High</td>\n",
       "    </tr>\n",
       "    <tr>\n",
       "      <th>38</th>\n",
       "      <td>11943</td>\n",
       "      <td>Country space in the city</td>\n",
       "      <td>45445</td>\n",
       "      <td>Harriet</td>\n",
       "      <td>Brooklyn</td>\n",
       "      <td>Flatbush</td>\n",
       "      <td>40.63702</td>\n",
       "      <td>-73.96327</td>\n",
       "      <td>Private room</td>\n",
       "      <td>150</td>\n",
       "      <td>1</td>\n",
       "      <td>0</td>\n",
       "      <td>NaT</td>\n",
       "      <td>NaN</td>\n",
       "      <td>1</td>\n",
       "      <td>365</td>\n",
       "      <td>very High</td>\n",
       "      <td>very Low</td>\n",
       "      <td>very Low</td>\n",
       "      <td>very Low</td>\n",
       "    </tr>\n",
       "    <tr>\n",
       "      <th>...</th>\n",
       "      <td>...</td>\n",
       "      <td>...</td>\n",
       "      <td>...</td>\n",
       "      <td>...</td>\n",
       "      <td>...</td>\n",
       "      <td>...</td>\n",
       "      <td>...</td>\n",
       "      <td>...</td>\n",
       "      <td>...</td>\n",
       "      <td>...</td>\n",
       "      <td>...</td>\n",
       "      <td>...</td>\n",
       "      <td>...</td>\n",
       "      <td>...</td>\n",
       "      <td>...</td>\n",
       "      <td>...</td>\n",
       "      <td>...</td>\n",
       "      <td>...</td>\n",
       "      <td>...</td>\n",
       "      <td>...</td>\n",
       "    </tr>\n",
       "    <tr>\n",
       "      <th>48890</th>\n",
       "      <td>36484665</td>\n",
       "      <td>Charming one bedroom - newly renovated rowhouse</td>\n",
       "      <td>8232441</td>\n",
       "      <td>Sabrina</td>\n",
       "      <td>Brooklyn</td>\n",
       "      <td>Bedford-Stuyvesant</td>\n",
       "      <td>40.67853</td>\n",
       "      <td>-73.94995</td>\n",
       "      <td>Private room</td>\n",
       "      <td>70</td>\n",
       "      <td>2</td>\n",
       "      <td>0</td>\n",
       "      <td>NaT</td>\n",
       "      <td>NaN</td>\n",
       "      <td>2</td>\n",
       "      <td>9</td>\n",
       "      <td>Low</td>\n",
       "      <td>Low</td>\n",
       "      <td>Low</td>\n",
       "      <td>Low</td>\n",
       "    </tr>\n",
       "    <tr>\n",
       "      <th>48891</th>\n",
       "      <td>36485057</td>\n",
       "      <td>Affordable room in Bushwick/East Williamsburg</td>\n",
       "      <td>6570630</td>\n",
       "      <td>Marisol</td>\n",
       "      <td>Brooklyn</td>\n",
       "      <td>Bushwick</td>\n",
       "      <td>40.70184</td>\n",
       "      <td>-73.93317</td>\n",
       "      <td>Private room</td>\n",
       "      <td>40</td>\n",
       "      <td>4</td>\n",
       "      <td>0</td>\n",
       "      <td>NaT</td>\n",
       "      <td>NaN</td>\n",
       "      <td>2</td>\n",
       "      <td>36</td>\n",
       "      <td>Low</td>\n",
       "      <td>Medium</td>\n",
       "      <td>Low</td>\n",
       "      <td>Low</td>\n",
       "    </tr>\n",
       "    <tr>\n",
       "      <th>48892</th>\n",
       "      <td>36485431</td>\n",
       "      <td>Sunny Studio at Historical Neighborhood</td>\n",
       "      <td>23492952</td>\n",
       "      <td>Ilgar &amp; Aysel</td>\n",
       "      <td>Manhattan</td>\n",
       "      <td>Harlem</td>\n",
       "      <td>40.81475</td>\n",
       "      <td>-73.94867</td>\n",
       "      <td>Entire home/apt</td>\n",
       "      <td>115</td>\n",
       "      <td>10</td>\n",
       "      <td>0</td>\n",
       "      <td>NaT</td>\n",
       "      <td>NaN</td>\n",
       "      <td>1</td>\n",
       "      <td>27</td>\n",
       "      <td>Low</td>\n",
       "      <td>very High</td>\n",
       "      <td>Medium</td>\n",
       "      <td>Medium</td>\n",
       "    </tr>\n",
       "    <tr>\n",
       "      <th>48893</th>\n",
       "      <td>36485609</td>\n",
       "      <td>43rd St. Time Square-cozy single bed</td>\n",
       "      <td>30985759</td>\n",
       "      <td>Taz</td>\n",
       "      <td>Manhattan</td>\n",
       "      <td>Hell's Kitchen</td>\n",
       "      <td>40.75751</td>\n",
       "      <td>-73.99112</td>\n",
       "      <td>Shared room</td>\n",
       "      <td>55</td>\n",
       "      <td>1</td>\n",
       "      <td>0</td>\n",
       "      <td>NaT</td>\n",
       "      <td>NaN</td>\n",
       "      <td>6</td>\n",
       "      <td>2</td>\n",
       "      <td>Low</td>\n",
       "      <td>very Low</td>\n",
       "      <td>very Low</td>\n",
       "      <td>very Low</td>\n",
       "    </tr>\n",
       "    <tr>\n",
       "      <th>48894</th>\n",
       "      <td>36487245</td>\n",
       "      <td>Trendy duplex in the very heart of Hell's Kitchen</td>\n",
       "      <td>68119814</td>\n",
       "      <td>Christophe</td>\n",
       "      <td>Manhattan</td>\n",
       "      <td>Hell's Kitchen</td>\n",
       "      <td>40.76404</td>\n",
       "      <td>-73.98933</td>\n",
       "      <td>Private room</td>\n",
       "      <td>90</td>\n",
       "      <td>7</td>\n",
       "      <td>0</td>\n",
       "      <td>NaT</td>\n",
       "      <td>NaN</td>\n",
       "      <td>1</td>\n",
       "      <td>23</td>\n",
       "      <td>Low</td>\n",
       "      <td>High</td>\n",
       "      <td>Medium</td>\n",
       "      <td>Medium</td>\n",
       "    </tr>\n",
       "  </tbody>\n",
       "</table>\n",
       "<p>10052 rows × 20 columns</p>\n",
       "</div>"
      ],
      "text/plain": [
       "             id                                               name   host_id  \\\n",
       "2          3647                THE VILLAGE OF HARLEM....NEW YORK !      4632   \n",
       "19         7750                  Huge 2 BR Upper East  Cental Park     17985   \n",
       "26         8700  Magnifique Suite au N de Manhattan - vue Cloitres     26394   \n",
       "36        11452                        Clean and Quiet in Brooklyn      7355   \n",
       "38        11943                          Country space in the city     45445   \n",
       "...         ...                                                ...       ...   \n",
       "48890  36484665    Charming one bedroom - newly renovated rowhouse   8232441   \n",
       "48891  36485057      Affordable room in Bushwick/East Williamsburg   6570630   \n",
       "48892  36485431            Sunny Studio at Historical Neighborhood  23492952   \n",
       "48893  36485609               43rd St. Time Square-cozy single bed  30985759   \n",
       "48894  36487245  Trendy duplex in the very heart of Hell's Kitchen  68119814   \n",
       "\n",
       "             host_name neighbourhood_group       neighbourhood  latitude  \\\n",
       "2            Elisabeth           Manhattan              Harlem  40.80902   \n",
       "19                Sing           Manhattan         East Harlem  40.79685   \n",
       "26     Claude & Sophie           Manhattan              Inwood  40.86754   \n",
       "36                  Vt            Brooklyn  Bedford-Stuyvesant  40.68876   \n",
       "38             Harriet            Brooklyn            Flatbush  40.63702   \n",
       "...                ...                 ...                 ...       ...   \n",
       "48890          Sabrina            Brooklyn  Bedford-Stuyvesant  40.67853   \n",
       "48891          Marisol            Brooklyn            Bushwick  40.70184   \n",
       "48892    Ilgar & Aysel           Manhattan              Harlem  40.81475   \n",
       "48893              Taz           Manhattan      Hell's Kitchen  40.75751   \n",
       "48894       Christophe           Manhattan      Hell's Kitchen  40.76404   \n",
       "\n",
       "       longitude        room_type  price  minimum_nights  number_of_reviews  \\\n",
       "2      -73.94190     Private room    150               3                  0   \n",
       "19     -73.94872  Entire home/apt    190               7                  0   \n",
       "26     -73.92639     Private room     80               4                  0   \n",
       "36     -73.94312     Private room     35              60                  0   \n",
       "38     -73.96327     Private room    150               1                  0   \n",
       "...          ...              ...    ...             ...                ...   \n",
       "48890  -73.94995     Private room     70               2                  0   \n",
       "48891  -73.93317     Private room     40               4                  0   \n",
       "48892  -73.94867  Entire home/apt    115              10                  0   \n",
       "48893  -73.99112      Shared room     55               1                  0   \n",
       "48894  -73.98933     Private room     90               7                  0   \n",
       "\n",
       "      last_review  reviews_per_month  calculated_host_listings_count  \\\n",
       "2             NaT                NaN                               1   \n",
       "19            NaT                NaN                               2   \n",
       "26            NaT                NaN                               1   \n",
       "36            NaT                NaN                               1   \n",
       "38            NaT                NaN                               1   \n",
       "...           ...                ...                             ...   \n",
       "48890         NaT                NaN                               2   \n",
       "48891         NaT                NaN                               2   \n",
       "48892         NaT                NaN                               1   \n",
       "48893         NaT                NaN                               6   \n",
       "48894         NaT                NaN                               1   \n",
       "\n",
       "       availability_365 availabilty_365_categories minimum_nights_categories  \\\n",
       "2                   365                  very High                       Low   \n",
       "19                  249                       High                      High   \n",
       "26                    0                   very Low                    Medium   \n",
       "36                  365                  very High                 very High   \n",
       "38                  365                  very High                  very Low   \n",
       "...                 ...                        ...                       ...   \n",
       "48890                 9                        Low                       Low   \n",
       "48891                36                        Low                    Medium   \n",
       "48892                27                        Low                 very High   \n",
       "48893                 2                        Low                  very Low   \n",
       "48894                23                        Low                      High   \n",
       "\n",
       "      number_of_reviews_categories price_categories  \n",
       "2                              Low              Low  \n",
       "19                          Medium           Medium  \n",
       "26                             Low              Low  \n",
       "36                       very High             High  \n",
       "38                        very Low         very Low  \n",
       "...                            ...              ...  \n",
       "48890                          Low              Low  \n",
       "48891                          Low              Low  \n",
       "48892                       Medium           Medium  \n",
       "48893                     very Low         very Low  \n",
       "48894                       Medium           Medium  \n",
       "\n",
       "[10052 rows x 20 columns]"
      ]
     },
     "execution_count": 483,
     "metadata": {},
     "output_type": "execute_result"
    }
   ],
   "source": [
    "inp1 = inp0.loc[inp0.last_review.isnull(),:]\n",
    "inp1"
   ]
  },
  {
   "cell_type": "code",
   "execution_count": 484,
   "id": "90ab4933",
   "metadata": {},
   "outputs": [
    {
     "data": {
      "text/plain": [
       "(10052, 20)"
      ]
     },
     "execution_count": 484,
     "metadata": {},
     "output_type": "execute_result"
    }
   ],
   "source": [
    "inp1.shape"
   ]
  },
  {
   "cell_type": "markdown",
   "id": "76c35fe3",
   "metadata": {},
   "source": [
    "#### 5.2 MISSING VALUE ANALYSIS (NEIGHBOURHOOD GROUP FEATURE)"
   ]
  },
  {
   "cell_type": "code",
   "execution_count": 485,
   "id": "cf9e5961",
   "metadata": {},
   "outputs": [
    {
     "data": {
      "text/plain": [
       "Manhattan        21661\n",
       "Brooklyn         20104\n",
       "Queens            5666\n",
       "Bronx             1091\n",
       "Staten Island      373\n",
       "Name: neighbourhood_group, dtype: int64"
      ]
     },
     "execution_count": 485,
     "metadata": {},
     "output_type": "execute_result"
    }
   ],
   "source": [
    "inp0.neighbourhood_group.value_counts(ascending=False)"
   ]
  },
  {
   "cell_type": "code",
   "execution_count": 486,
   "id": "b051dbcb",
   "metadata": {},
   "outputs": [
    {
     "data": {
      "image/png": "[encoded data removed]",
      "text/plain": [
       "<Figure size 640x480 with 1 Axes>"
      ]
     },
     "metadata": {},
     "output_type": "display_data"
    }
   ],
   "source": [
    "((inp1.groupby('neighbourhood_group').neighbourhood_group.count()/inp0.groupby('neighbourhood_group').neighbourhood_group.count())*100).plot.bar()\n",
    "plt.show()"
   ]
  },
  {
   "cell_type": "code",
   "execution_count": 487,
   "id": "2eeb3d5e",
   "metadata": {},
   "outputs": [
    {
     "data": {
      "text/plain": [
       "19.240898461107257"
      ]
     },
     "execution_count": 487,
     "metadata": {},
     "output_type": "execute_result"
    }
   ],
   "source": [
    "((inp1.groupby('neighbourhood_group').neighbourhood_group.count()/inp0.groupby('neighbourhood_group').neighbourhood_group.count())*100).mean()"
   ]
  },
  {
   "cell_type": "markdown",
   "id": "f7175897",
   "metadata": {},
   "source": [
    "#### - Each neighbourhood_group has about 19 % missing values in 'last_review' feature."
   ]
  },
  {
   "cell_type": "markdown",
   "id": "d84d3031",
   "metadata": {},
   "source": [
    "## 5.3 MISSING VALUE ANALYSIS (ROOM TYPE FEATURE) "
   ]
  },
  {
   "cell_type": "code",
   "execution_count": 488,
   "id": "7a738614",
   "metadata": {},
   "outputs": [
    {
     "data": {
      "text/plain": [
       "room_type\n",
       "Entire home/apt    19.981109\n",
       "Private room       20.877004\n",
       "Shared room        27.068966\n",
       "Name: room_type, dtype: float64"
      ]
     },
     "execution_count": 488,
     "metadata": {},
     "output_type": "execute_result"
    }
   ],
   "source": [
    "# Count of 'room_type' with missing values\n",
    "inp3 = (inp1.groupby('room_type').room_type.count()/inp0.groupby('room_type').room_type.count())*100\n",
    "inp3"
   ]
  },
  {
   "cell_type": "code",
   "execution_count": 489,
   "id": "43040f79",
   "metadata": {},
   "outputs": [
    {
     "data": {
      "image/png": "[encoded data removed]",
      "text/plain": [
       "<Figure size 640x480 with 1 Axes>"
      ]
     },
     "metadata": {},
     "output_type": "display_data"
    }
   ],
   "source": [
    "plt.title('Missing values')\n",
    "sns.barplot(x = inp3.index, y = inp3.values)\n",
    "plt.show()"
   ]
  },
  {
   "cell_type": "markdown",
   "id": "66ace880",
   "metadata": {},
   "source": [
    "#### 'Shared room' has the highest missing value percentage (27 %) for 'last_review' feature while to other room types has only about 20 %."
   ]
  },
  {
   "cell_type": "code",
   "execution_count": 490,
   "id": "b9f7757a",
   "metadata": {},
   "outputs": [
    {
     "name": "stdout",
     "output_type": "stream",
     "text": [
      "Mean and Median of prices with last_review feature missing\n",
      "Mean   =  192.9190210903303\n",
      "Median =  120.0\n",
      "\n",
      "Mean and Median of prices with last_review feature not missing\n",
      "Mean   =  142.317946605566\n",
      "Median =  101.0\n"
     ]
    }
   ],
   "source": [
    "print('Mean and Median of prices with last_review feature missing')\n",
    "print('Mean   = ', inp0[inp0['last_review'].isnull()].price.mean())\n",
    "print('Median = ', inp0[inp0['last_review'].isnull()].price.median())\n",
    "\n",
    "print('\\nMean and Median of prices with last_review feature not missing')\n",
    "print('Mean   = ', inp0[inp0['last_review'].notnull()].price.mean())\n",
    "print('Median = ', inp0[inp0['last_review'].notnull()].price.median())"
   ]
  },
  {
   "cell_type": "code",
   "execution_count": 491,
   "id": "b01d6658",
   "metadata": {},
   "outputs": [
    {
     "data": {
      "image/png": "[encoded data removed]",
      "text/plain": [
       "<Figure size 2000x1200 with 2 Axes>"
      ]
     },
     "metadata": {},
     "output_type": "display_data"
    }
   ],
   "source": [
    "plt.figure(figsize=(20,12))\n",
    "\n",
    "plt.subplot(2,1,1)\n",
    "sns.boxplot(data = inp0[inp0['last_review'].isnull()] , x = 'price',  width= .8)\n",
    "\n",
    "plt.subplot(2,1,2)\n",
    "sns.boxplot(data = inp0[inp0['last_review'].notnull()] , x = 'price',  width= .8)\n",
    "\n",
    "plt.show()"
   ]
  },
  {
   "cell_type": "markdown",
   "id": "6cc36131",
   "metadata": {},
   "source": [
    "#### - The pricing is higher when 'last_review' feature is missing . \n",
    "#### - reviews are less likely to be given for shared rooms\n",
    "#### - When the prices are high reviews are less likely to be given\n",
    "#### - The above analysis seems to show that the missing values here are not MCAR (missing completely at random)\n"
   ]
  },
  {
   "cell_type": "markdown",
   "id": "9cea14a3",
   "metadata": {},
   "source": [
    "# 6. UNIVARIATE ANALYSIS"
   ]
  },
  {
   "cell_type": "code",
   "execution_count": 492,
   "id": "1af21a29",
   "metadata": {},
   "outputs": [
    {
     "data": {
      "text/html": [
       "<div>\n",
       "<style scoped>\n",
       "    .dataframe tbody tr th:only-of-type {\n",
       "        vertical-align: middle;\n",
       "    }\n",
       "\n",
       "    .dataframe tbody tr th {\n",
       "        vertical-align: top;\n",
       "    }\n",
       "\n",
       "    .dataframe thead th {\n",
       "        text-align: right;\n",
       "    }\n",
       "</style>\n",
       "<table border=\"1\" class=\"dataframe\">\n",
       "  <thead>\n",
       "    <tr style=\"text-align: right;\">\n",
       "      <th></th>\n",
       "      <th>id</th>\n",
       "      <th>name</th>\n",
       "      <th>host_id</th>\n",
       "      <th>host_name</th>\n",
       "      <th>neighbourhood_group</th>\n",
       "      <th>neighbourhood</th>\n",
       "      <th>latitude</th>\n",
       "      <th>longitude</th>\n",
       "      <th>room_type</th>\n",
       "      <th>price</th>\n",
       "      <th>minimum_nights</th>\n",
       "      <th>number_of_reviews</th>\n",
       "      <th>last_review</th>\n",
       "      <th>reviews_per_month</th>\n",
       "      <th>calculated_host_listings_count</th>\n",
       "      <th>availability_365</th>\n",
       "      <th>availabilty_365_categories</th>\n",
       "      <th>minimum_nights_categories</th>\n",
       "      <th>number_of_reviews_categories</th>\n",
       "      <th>price_categories</th>\n",
       "    </tr>\n",
       "  </thead>\n",
       "  <tbody>\n",
       "    <tr>\n",
       "      <th>0</th>\n",
       "      <td>2539</td>\n",
       "      <td>Clean &amp; quiet apt home by the park</td>\n",
       "      <td>2787</td>\n",
       "      <td>John</td>\n",
       "      <td>Brooklyn</td>\n",
       "      <td>Kensington</td>\n",
       "      <td>40.64749</td>\n",
       "      <td>-73.97237</td>\n",
       "      <td>Private room</td>\n",
       "      <td>149</td>\n",
       "      <td>1</td>\n",
       "      <td>9</td>\n",
       "      <td>2018-10-19</td>\n",
       "      <td>0.21</td>\n",
       "      <td>6</td>\n",
       "      <td>365</td>\n",
       "      <td>very High</td>\n",
       "      <td>very Low</td>\n",
       "      <td>very Low</td>\n",
       "      <td>very Low</td>\n",
       "    </tr>\n",
       "    <tr>\n",
       "      <th>1</th>\n",
       "      <td>2595</td>\n",
       "      <td>Skylit Midtown Castle</td>\n",
       "      <td>2845</td>\n",
       "      <td>Jennifer</td>\n",
       "      <td>Manhattan</td>\n",
       "      <td>Midtown</td>\n",
       "      <td>40.75362</td>\n",
       "      <td>-73.98377</td>\n",
       "      <td>Entire home/apt</td>\n",
       "      <td>225</td>\n",
       "      <td>1</td>\n",
       "      <td>45</td>\n",
       "      <td>2019-05-21</td>\n",
       "      <td>0.38</td>\n",
       "      <td>2</td>\n",
       "      <td>355</td>\n",
       "      <td>very High</td>\n",
       "      <td>very Low</td>\n",
       "      <td>very Low</td>\n",
       "      <td>very Low</td>\n",
       "    </tr>\n",
       "    <tr>\n",
       "      <th>2</th>\n",
       "      <td>3647</td>\n",
       "      <td>THE VILLAGE OF HARLEM....NEW YORK !</td>\n",
       "      <td>4632</td>\n",
       "      <td>Elisabeth</td>\n",
       "      <td>Manhattan</td>\n",
       "      <td>Harlem</td>\n",
       "      <td>40.80902</td>\n",
       "      <td>-73.94190</td>\n",
       "      <td>Private room</td>\n",
       "      <td>150</td>\n",
       "      <td>3</td>\n",
       "      <td>0</td>\n",
       "      <td>NaT</td>\n",
       "      <td>NaN</td>\n",
       "      <td>1</td>\n",
       "      <td>365</td>\n",
       "      <td>very High</td>\n",
       "      <td>Low</td>\n",
       "      <td>Low</td>\n",
       "      <td>Low</td>\n",
       "    </tr>\n",
       "    <tr>\n",
       "      <th>3</th>\n",
       "      <td>3831</td>\n",
       "      <td>Cozy Entire Floor of Brownstone</td>\n",
       "      <td>4869</td>\n",
       "      <td>LisaRoxanne</td>\n",
       "      <td>Brooklyn</td>\n",
       "      <td>Clinton Hill</td>\n",
       "      <td>40.68514</td>\n",
       "      <td>-73.95976</td>\n",
       "      <td>Entire home/apt</td>\n",
       "      <td>89</td>\n",
       "      <td>1</td>\n",
       "      <td>270</td>\n",
       "      <td>2019-05-07</td>\n",
       "      <td>4.64</td>\n",
       "      <td>1</td>\n",
       "      <td>194</td>\n",
       "      <td>Medium</td>\n",
       "      <td>very Low</td>\n",
       "      <td>very Low</td>\n",
       "      <td>very Low</td>\n",
       "    </tr>\n",
       "    <tr>\n",
       "      <th>4</th>\n",
       "      <td>5022</td>\n",
       "      <td>Entire Apt: Spacious Studio/Loft by central park</td>\n",
       "      <td>7192</td>\n",
       "      <td>Laura</td>\n",
       "      <td>Manhattan</td>\n",
       "      <td>East Harlem</td>\n",
       "      <td>40.79851</td>\n",
       "      <td>-73.94399</td>\n",
       "      <td>Entire home/apt</td>\n",
       "      <td>80</td>\n",
       "      <td>10</td>\n",
       "      <td>9</td>\n",
       "      <td>2018-11-19</td>\n",
       "      <td>0.10</td>\n",
       "      <td>1</td>\n",
       "      <td>0</td>\n",
       "      <td>very Low</td>\n",
       "      <td>very High</td>\n",
       "      <td>Medium</td>\n",
       "      <td>Medium</td>\n",
       "    </tr>\n",
       "    <tr>\n",
       "      <th>5</th>\n",
       "      <td>5099</td>\n",
       "      <td>Large Cozy 1 BR Apartment In Midtown East</td>\n",
       "      <td>7322</td>\n",
       "      <td>Chris</td>\n",
       "      <td>Manhattan</td>\n",
       "      <td>Murray Hill</td>\n",
       "      <td>40.74767</td>\n",
       "      <td>-73.97500</td>\n",
       "      <td>Entire home/apt</td>\n",
       "      <td>200</td>\n",
       "      <td>3</td>\n",
       "      <td>74</td>\n",
       "      <td>2019-06-22</td>\n",
       "      <td>0.59</td>\n",
       "      <td>1</td>\n",
       "      <td>129</td>\n",
       "      <td>Medium</td>\n",
       "      <td>Low</td>\n",
       "      <td>Low</td>\n",
       "      <td>Low</td>\n",
       "    </tr>\n",
       "    <tr>\n",
       "      <th>6</th>\n",
       "      <td>5121</td>\n",
       "      <td>BlissArtsSpace!</td>\n",
       "      <td>7356</td>\n",
       "      <td>Garon</td>\n",
       "      <td>Brooklyn</td>\n",
       "      <td>Bedford-Stuyvesant</td>\n",
       "      <td>40.68688</td>\n",
       "      <td>-73.95596</td>\n",
       "      <td>Private room</td>\n",
       "      <td>60</td>\n",
       "      <td>45</td>\n",
       "      <td>49</td>\n",
       "      <td>2017-05-10</td>\n",
       "      <td>0.40</td>\n",
       "      <td>1</td>\n",
       "      <td>0</td>\n",
       "      <td>very Low</td>\n",
       "      <td>very High</td>\n",
       "      <td>very High</td>\n",
       "      <td>High</td>\n",
       "    </tr>\n",
       "    <tr>\n",
       "      <th>7</th>\n",
       "      <td>5178</td>\n",
       "      <td>Large Furnished Room Near B'way</td>\n",
       "      <td>8967</td>\n",
       "      <td>Shunichi</td>\n",
       "      <td>Manhattan</td>\n",
       "      <td>Hell's Kitchen</td>\n",
       "      <td>40.76489</td>\n",
       "      <td>-73.98493</td>\n",
       "      <td>Private room</td>\n",
       "      <td>79</td>\n",
       "      <td>2</td>\n",
       "      <td>430</td>\n",
       "      <td>2019-06-24</td>\n",
       "      <td>3.47</td>\n",
       "      <td>1</td>\n",
       "      <td>220</td>\n",
       "      <td>High</td>\n",
       "      <td>Low</td>\n",
       "      <td>Low</td>\n",
       "      <td>Low</td>\n",
       "    </tr>\n",
       "    <tr>\n",
       "      <th>8</th>\n",
       "      <td>5203</td>\n",
       "      <td>Cozy Clean Guest Room - Family Apt</td>\n",
       "      <td>7490</td>\n",
       "      <td>MaryEllen</td>\n",
       "      <td>Manhattan</td>\n",
       "      <td>Upper West Side</td>\n",
       "      <td>40.80178</td>\n",
       "      <td>-73.96723</td>\n",
       "      <td>Private room</td>\n",
       "      <td>79</td>\n",
       "      <td>2</td>\n",
       "      <td>118</td>\n",
       "      <td>2017-07-21</td>\n",
       "      <td>0.99</td>\n",
       "      <td>1</td>\n",
       "      <td>0</td>\n",
       "      <td>very Low</td>\n",
       "      <td>Low</td>\n",
       "      <td>Low</td>\n",
       "      <td>Low</td>\n",
       "    </tr>\n",
       "    <tr>\n",
       "      <th>9</th>\n",
       "      <td>5238</td>\n",
       "      <td>Cute &amp; Cozy Lower East Side 1 bdrm</td>\n",
       "      <td>7549</td>\n",
       "      <td>Ben</td>\n",
       "      <td>Manhattan</td>\n",
       "      <td>Chinatown</td>\n",
       "      <td>40.71344</td>\n",
       "      <td>-73.99037</td>\n",
       "      <td>Entire home/apt</td>\n",
       "      <td>150</td>\n",
       "      <td>1</td>\n",
       "      <td>160</td>\n",
       "      <td>2019-09-06</td>\n",
       "      <td>1.33</td>\n",
       "      <td>4</td>\n",
       "      <td>188</td>\n",
       "      <td>Medium</td>\n",
       "      <td>very Low</td>\n",
       "      <td>very Low</td>\n",
       "      <td>very Low</td>\n",
       "    </tr>\n",
       "    <tr>\n",
       "      <th>10</th>\n",
       "      <td>5295</td>\n",
       "      <td>Beautiful 1br on Upper West Side</td>\n",
       "      <td>7702</td>\n",
       "      <td>Lena</td>\n",
       "      <td>Manhattan</td>\n",
       "      <td>Upper West Side</td>\n",
       "      <td>40.80316</td>\n",
       "      <td>-73.96545</td>\n",
       "      <td>Entire home/apt</td>\n",
       "      <td>135</td>\n",
       "      <td>5</td>\n",
       "      <td>53</td>\n",
       "      <td>2019-06-22</td>\n",
       "      <td>0.43</td>\n",
       "      <td>1</td>\n",
       "      <td>6</td>\n",
       "      <td>Low</td>\n",
       "      <td>Medium</td>\n",
       "      <td>Low</td>\n",
       "      <td>Medium</td>\n",
       "    </tr>\n",
       "    <tr>\n",
       "      <th>11</th>\n",
       "      <td>5441</td>\n",
       "      <td>Central Manhattan/near Broadway</td>\n",
       "      <td>7989</td>\n",
       "      <td>Kate</td>\n",
       "      <td>Manhattan</td>\n",
       "      <td>Hell's Kitchen</td>\n",
       "      <td>40.76076</td>\n",
       "      <td>-73.98867</td>\n",
       "      <td>Private room</td>\n",
       "      <td>85</td>\n",
       "      <td>2</td>\n",
       "      <td>188</td>\n",
       "      <td>2019-06-23</td>\n",
       "      <td>1.50</td>\n",
       "      <td>1</td>\n",
       "      <td>39</td>\n",
       "      <td>Low</td>\n",
       "      <td>Low</td>\n",
       "      <td>Low</td>\n",
       "      <td>Low</td>\n",
       "    </tr>\n",
       "    <tr>\n",
       "      <th>12</th>\n",
       "      <td>5803</td>\n",
       "      <td>Lovely Room 1, Garden, Best Area, Legal rental</td>\n",
       "      <td>9744</td>\n",
       "      <td>Laurie</td>\n",
       "      <td>Brooklyn</td>\n",
       "      <td>South Slope</td>\n",
       "      <td>40.66829</td>\n",
       "      <td>-73.98779</td>\n",
       "      <td>Private room</td>\n",
       "      <td>89</td>\n",
       "      <td>4</td>\n",
       "      <td>167</td>\n",
       "      <td>2019-06-24</td>\n",
       "      <td>1.34</td>\n",
       "      <td>3</td>\n",
       "      <td>314</td>\n",
       "      <td>very High</td>\n",
       "      <td>Medium</td>\n",
       "      <td>Low</td>\n",
       "      <td>Low</td>\n",
       "    </tr>\n",
       "    <tr>\n",
       "      <th>13</th>\n",
       "      <td>6021</td>\n",
       "      <td>Wonderful Guest Bedroom in Manhattan for SINGLES</td>\n",
       "      <td>11528</td>\n",
       "      <td>Claudio</td>\n",
       "      <td>Manhattan</td>\n",
       "      <td>Upper West Side</td>\n",
       "      <td>40.79826</td>\n",
       "      <td>-73.96113</td>\n",
       "      <td>Private room</td>\n",
       "      <td>85</td>\n",
       "      <td>2</td>\n",
       "      <td>113</td>\n",
       "      <td>2019-05-07</td>\n",
       "      <td>0.91</td>\n",
       "      <td>1</td>\n",
       "      <td>333</td>\n",
       "      <td>very High</td>\n",
       "      <td>Low</td>\n",
       "      <td>Low</td>\n",
       "      <td>Low</td>\n",
       "    </tr>\n",
       "    <tr>\n",
       "      <th>14</th>\n",
       "      <td>6090</td>\n",
       "      <td>West Village Nest - Superhost</td>\n",
       "      <td>11975</td>\n",
       "      <td>Alina</td>\n",
       "      <td>Manhattan</td>\n",
       "      <td>West Village</td>\n",
       "      <td>40.73530</td>\n",
       "      <td>-74.00525</td>\n",
       "      <td>Entire home/apt</td>\n",
       "      <td>120</td>\n",
       "      <td>90</td>\n",
       "      <td>27</td>\n",
       "      <td>2018-10-31</td>\n",
       "      <td>0.22</td>\n",
       "      <td>1</td>\n",
       "      <td>0</td>\n",
       "      <td>very Low</td>\n",
       "      <td>very High</td>\n",
       "      <td>very High</td>\n",
       "      <td>High</td>\n",
       "    </tr>\n",
       "    <tr>\n",
       "      <th>15</th>\n",
       "      <td>6848</td>\n",
       "      <td>Only 2 stops to Manhattan studio</td>\n",
       "      <td>15991</td>\n",
       "      <td>Allen &amp; Irina</td>\n",
       "      <td>Brooklyn</td>\n",
       "      <td>Williamsburg</td>\n",
       "      <td>40.70837</td>\n",
       "      <td>-73.95352</td>\n",
       "      <td>Entire home/apt</td>\n",
       "      <td>140</td>\n",
       "      <td>2</td>\n",
       "      <td>148</td>\n",
       "      <td>2019-06-29</td>\n",
       "      <td>1.20</td>\n",
       "      <td>1</td>\n",
       "      <td>46</td>\n",
       "      <td>Low</td>\n",
       "      <td>Low</td>\n",
       "      <td>Low</td>\n",
       "      <td>Low</td>\n",
       "    </tr>\n",
       "    <tr>\n",
       "      <th>16</th>\n",
       "      <td>7097</td>\n",
       "      <td>Perfect for Your Parents + Garden</td>\n",
       "      <td>17571</td>\n",
       "      <td>Jane</td>\n",
       "      <td>Brooklyn</td>\n",
       "      <td>Fort Greene</td>\n",
       "      <td>40.69169</td>\n",
       "      <td>-73.97185</td>\n",
       "      <td>Entire home/apt</td>\n",
       "      <td>215</td>\n",
       "      <td>2</td>\n",
       "      <td>198</td>\n",
       "      <td>2019-06-28</td>\n",
       "      <td>1.72</td>\n",
       "      <td>1</td>\n",
       "      <td>321</td>\n",
       "      <td>very High</td>\n",
       "      <td>Low</td>\n",
       "      <td>Low</td>\n",
       "      <td>Low</td>\n",
       "    </tr>\n",
       "    <tr>\n",
       "      <th>17</th>\n",
       "      <td>7322</td>\n",
       "      <td>Chelsea Perfect</td>\n",
       "      <td>18946</td>\n",
       "      <td>Doti</td>\n",
       "      <td>Manhattan</td>\n",
       "      <td>Chelsea</td>\n",
       "      <td>40.74192</td>\n",
       "      <td>-73.99501</td>\n",
       "      <td>Private room</td>\n",
       "      <td>140</td>\n",
       "      <td>1</td>\n",
       "      <td>260</td>\n",
       "      <td>2019-01-07</td>\n",
       "      <td>2.12</td>\n",
       "      <td>1</td>\n",
       "      <td>12</td>\n",
       "      <td>Low</td>\n",
       "      <td>very Low</td>\n",
       "      <td>very Low</td>\n",
       "      <td>very Low</td>\n",
       "    </tr>\n",
       "    <tr>\n",
       "      <th>18</th>\n",
       "      <td>7726</td>\n",
       "      <td>Hip Historic Brownstone Apartment with Backyard</td>\n",
       "      <td>20950</td>\n",
       "      <td>Adam And Charity</td>\n",
       "      <td>Brooklyn</td>\n",
       "      <td>Crown Heights</td>\n",
       "      <td>40.67592</td>\n",
       "      <td>-73.94694</td>\n",
       "      <td>Entire home/apt</td>\n",
       "      <td>99</td>\n",
       "      <td>3</td>\n",
       "      <td>53</td>\n",
       "      <td>2019-06-22</td>\n",
       "      <td>4.44</td>\n",
       "      <td>1</td>\n",
       "      <td>21</td>\n",
       "      <td>Low</td>\n",
       "      <td>Low</td>\n",
       "      <td>Low</td>\n",
       "      <td>Low</td>\n",
       "    </tr>\n",
       "    <tr>\n",
       "      <th>19</th>\n",
       "      <td>7750</td>\n",
       "      <td>Huge 2 BR Upper East  Cental Park</td>\n",
       "      <td>17985</td>\n",
       "      <td>Sing</td>\n",
       "      <td>Manhattan</td>\n",
       "      <td>East Harlem</td>\n",
       "      <td>40.79685</td>\n",
       "      <td>-73.94872</td>\n",
       "      <td>Entire home/apt</td>\n",
       "      <td>190</td>\n",
       "      <td>7</td>\n",
       "      <td>0</td>\n",
       "      <td>NaT</td>\n",
       "      <td>NaN</td>\n",
       "      <td>2</td>\n",
       "      <td>249</td>\n",
       "      <td>High</td>\n",
       "      <td>High</td>\n",
       "      <td>Medium</td>\n",
       "      <td>Medium</td>\n",
       "    </tr>\n",
       "    <tr>\n",
       "      <th>20</th>\n",
       "      <td>7801</td>\n",
       "      <td>Sweet and Spacious Brooklyn Loft</td>\n",
       "      <td>21207</td>\n",
       "      <td>Chaya</td>\n",
       "      <td>Brooklyn</td>\n",
       "      <td>Williamsburg</td>\n",
       "      <td>40.71842</td>\n",
       "      <td>-73.95718</td>\n",
       "      <td>Entire home/apt</td>\n",
       "      <td>299</td>\n",
       "      <td>3</td>\n",
       "      <td>9</td>\n",
       "      <td>2011-12-28</td>\n",
       "      <td>0.07</td>\n",
       "      <td>1</td>\n",
       "      <td>0</td>\n",
       "      <td>very Low</td>\n",
       "      <td>Low</td>\n",
       "      <td>Low</td>\n",
       "      <td>Low</td>\n",
       "    </tr>\n",
       "    <tr>\n",
       "      <th>21</th>\n",
       "      <td>8024</td>\n",
       "      <td>CBG CtyBGd HelpsHaiti rm#1:1-4</td>\n",
       "      <td>22486</td>\n",
       "      <td>Lisel</td>\n",
       "      <td>Brooklyn</td>\n",
       "      <td>Park Slope</td>\n",
       "      <td>40.68069</td>\n",
       "      <td>-73.97706</td>\n",
       "      <td>Private room</td>\n",
       "      <td>130</td>\n",
       "      <td>2</td>\n",
       "      <td>130</td>\n",
       "      <td>2019-01-07</td>\n",
       "      <td>1.09</td>\n",
       "      <td>6</td>\n",
       "      <td>347</td>\n",
       "      <td>very High</td>\n",
       "      <td>Low</td>\n",
       "      <td>Low</td>\n",
       "      <td>Low</td>\n",
       "    </tr>\n",
       "    <tr>\n",
       "      <th>22</th>\n",
       "      <td>8025</td>\n",
       "      <td>CBG Helps Haiti Room#2.5</td>\n",
       "      <td>22486</td>\n",
       "      <td>Lisel</td>\n",
       "      <td>Brooklyn</td>\n",
       "      <td>Park Slope</td>\n",
       "      <td>40.67989</td>\n",
       "      <td>-73.97798</td>\n",
       "      <td>Private room</td>\n",
       "      <td>80</td>\n",
       "      <td>1</td>\n",
       "      <td>39</td>\n",
       "      <td>2019-01-01</td>\n",
       "      <td>0.37</td>\n",
       "      <td>6</td>\n",
       "      <td>364</td>\n",
       "      <td>very High</td>\n",
       "      <td>very Low</td>\n",
       "      <td>very Low</td>\n",
       "      <td>very Low</td>\n",
       "    </tr>\n",
       "    <tr>\n",
       "      <th>23</th>\n",
       "      <td>8110</td>\n",
       "      <td>CBG Helps Haiti Rm #2</td>\n",
       "      <td>22486</td>\n",
       "      <td>Lisel</td>\n",
       "      <td>Brooklyn</td>\n",
       "      <td>Park Slope</td>\n",
       "      <td>40.68001</td>\n",
       "      <td>-73.97865</td>\n",
       "      <td>Private room</td>\n",
       "      <td>110</td>\n",
       "      <td>2</td>\n",
       "      <td>71</td>\n",
       "      <td>2019-02-07</td>\n",
       "      <td>0.61</td>\n",
       "      <td>6</td>\n",
       "      <td>304</td>\n",
       "      <td>very High</td>\n",
       "      <td>Low</td>\n",
       "      <td>Low</td>\n",
       "      <td>Low</td>\n",
       "    </tr>\n",
       "    <tr>\n",
       "      <th>24</th>\n",
       "      <td>8490</td>\n",
       "      <td>MAISON DES SIRENES1,bohemian apartment</td>\n",
       "      <td>25183</td>\n",
       "      <td>Nathalie</td>\n",
       "      <td>Brooklyn</td>\n",
       "      <td>Bedford-Stuyvesant</td>\n",
       "      <td>40.68371</td>\n",
       "      <td>-73.94028</td>\n",
       "      <td>Entire home/apt</td>\n",
       "      <td>120</td>\n",
       "      <td>2</td>\n",
       "      <td>88</td>\n",
       "      <td>2019-06-19</td>\n",
       "      <td>0.73</td>\n",
       "      <td>2</td>\n",
       "      <td>233</td>\n",
       "      <td>High</td>\n",
       "      <td>Low</td>\n",
       "      <td>Low</td>\n",
       "      <td>Low</td>\n",
       "    </tr>\n",
       "    <tr>\n",
       "      <th>25</th>\n",
       "      <td>8505</td>\n",
       "      <td>Sunny Bedroom Across Prospect Park</td>\n",
       "      <td>25326</td>\n",
       "      <td>Gregory</td>\n",
       "      <td>Brooklyn</td>\n",
       "      <td>Windsor Terrace</td>\n",
       "      <td>40.65599</td>\n",
       "      <td>-73.97519</td>\n",
       "      <td>Private room</td>\n",
       "      <td>60</td>\n",
       "      <td>1</td>\n",
       "      <td>19</td>\n",
       "      <td>2019-06-23</td>\n",
       "      <td>1.37</td>\n",
       "      <td>2</td>\n",
       "      <td>85</td>\n",
       "      <td>Low</td>\n",
       "      <td>very Low</td>\n",
       "      <td>very Low</td>\n",
       "      <td>very Low</td>\n",
       "    </tr>\n",
       "    <tr>\n",
       "      <th>26</th>\n",
       "      <td>8700</td>\n",
       "      <td>Magnifique Suite au N de Manhattan - vue Cloitres</td>\n",
       "      <td>26394</td>\n",
       "      <td>Claude &amp; Sophie</td>\n",
       "      <td>Manhattan</td>\n",
       "      <td>Inwood</td>\n",
       "      <td>40.86754</td>\n",
       "      <td>-73.92639</td>\n",
       "      <td>Private room</td>\n",
       "      <td>80</td>\n",
       "      <td>4</td>\n",
       "      <td>0</td>\n",
       "      <td>NaT</td>\n",
       "      <td>NaN</td>\n",
       "      <td>1</td>\n",
       "      <td>0</td>\n",
       "      <td>very Low</td>\n",
       "      <td>Medium</td>\n",
       "      <td>Low</td>\n",
       "      <td>Low</td>\n",
       "    </tr>\n",
       "    <tr>\n",
       "      <th>27</th>\n",
       "      <td>9357</td>\n",
       "      <td>Midtown Pied-a-terre</td>\n",
       "      <td>30193</td>\n",
       "      <td>Tommi</td>\n",
       "      <td>Manhattan</td>\n",
       "      <td>Hell's Kitchen</td>\n",
       "      <td>40.76715</td>\n",
       "      <td>-73.98533</td>\n",
       "      <td>Entire home/apt</td>\n",
       "      <td>150</td>\n",
       "      <td>10</td>\n",
       "      <td>58</td>\n",
       "      <td>2017-08-13</td>\n",
       "      <td>0.49</td>\n",
       "      <td>1</td>\n",
       "      <td>75</td>\n",
       "      <td>Low</td>\n",
       "      <td>very High</td>\n",
       "      <td>Medium</td>\n",
       "      <td>Medium</td>\n",
       "    </tr>\n",
       "    <tr>\n",
       "      <th>28</th>\n",
       "      <td>9518</td>\n",
       "      <td>SPACIOUS, LOVELY FURNISHED MANHATTAN BEDROOM</td>\n",
       "      <td>31374</td>\n",
       "      <td>Shon</td>\n",
       "      <td>Manhattan</td>\n",
       "      <td>Inwood</td>\n",
       "      <td>40.86482</td>\n",
       "      <td>-73.92106</td>\n",
       "      <td>Private room</td>\n",
       "      <td>44</td>\n",
       "      <td>3</td>\n",
       "      <td>108</td>\n",
       "      <td>2019-06-15</td>\n",
       "      <td>1.11</td>\n",
       "      <td>3</td>\n",
       "      <td>311</td>\n",
       "      <td>very High</td>\n",
       "      <td>Low</td>\n",
       "      <td>Low</td>\n",
       "      <td>Low</td>\n",
       "    </tr>\n",
       "    <tr>\n",
       "      <th>29</th>\n",
       "      <td>9657</td>\n",
       "      <td>Modern 1 BR / NYC / EAST VILLAGE</td>\n",
       "      <td>21904</td>\n",
       "      <td>Dana</td>\n",
       "      <td>Manhattan</td>\n",
       "      <td>East Village</td>\n",
       "      <td>40.72920</td>\n",
       "      <td>-73.98542</td>\n",
       "      <td>Entire home/apt</td>\n",
       "      <td>180</td>\n",
       "      <td>14</td>\n",
       "      <td>29</td>\n",
       "      <td>2019-04-19</td>\n",
       "      <td>0.24</td>\n",
       "      <td>1</td>\n",
       "      <td>67</td>\n",
       "      <td>Low</td>\n",
       "      <td>very High</td>\n",
       "      <td>High</td>\n",
       "      <td>Medium</td>\n",
       "    </tr>\n",
       "  </tbody>\n",
       "</table>\n",
       "</div>"
      ],
      "text/plain": [
       "      id                                               name  host_id  \\\n",
       "0   2539                 Clean & quiet apt home by the park     2787   \n",
       "1   2595                              Skylit Midtown Castle     2845   \n",
       "2   3647                THE VILLAGE OF HARLEM....NEW YORK !     4632   \n",
       "3   3831                    Cozy Entire Floor of Brownstone     4869   \n",
       "4   5022   Entire Apt: Spacious Studio/Loft by central park     7192   \n",
       "5   5099          Large Cozy 1 BR Apartment In Midtown East     7322   \n",
       "6   5121                                    BlissArtsSpace!     7356   \n",
       "7   5178                   Large Furnished Room Near B'way      8967   \n",
       "8   5203                 Cozy Clean Guest Room - Family Apt     7490   \n",
       "9   5238                 Cute & Cozy Lower East Side 1 bdrm     7549   \n",
       "10  5295                   Beautiful 1br on Upper West Side     7702   \n",
       "11  5441                    Central Manhattan/near Broadway     7989   \n",
       "12  5803     Lovely Room 1, Garden, Best Area, Legal rental     9744   \n",
       "13  6021   Wonderful Guest Bedroom in Manhattan for SINGLES    11528   \n",
       "14  6090                      West Village Nest - Superhost    11975   \n",
       "15  6848                   Only 2 stops to Manhattan studio    15991   \n",
       "16  7097                  Perfect for Your Parents + Garden    17571   \n",
       "17  7322                                    Chelsea Perfect    18946   \n",
       "18  7726    Hip Historic Brownstone Apartment with Backyard    20950   \n",
       "19  7750                  Huge 2 BR Upper East  Cental Park    17985   \n",
       "20  7801                   Sweet and Spacious Brooklyn Loft    21207   \n",
       "21  8024                     CBG CtyBGd HelpsHaiti rm#1:1-4    22486   \n",
       "22  8025                           CBG Helps Haiti Room#2.5    22486   \n",
       "23  8110                              CBG Helps Haiti Rm #2    22486   \n",
       "24  8490             MAISON DES SIRENES1,bohemian apartment    25183   \n",
       "25  8505                 Sunny Bedroom Across Prospect Park    25326   \n",
       "26  8700  Magnifique Suite au N de Manhattan - vue Cloitres    26394   \n",
       "27  9357                               Midtown Pied-a-terre    30193   \n",
       "28  9518       SPACIOUS, LOVELY FURNISHED MANHATTAN BEDROOM    31374   \n",
       "29  9657                   Modern 1 BR / NYC / EAST VILLAGE    21904   \n",
       "\n",
       "           host_name neighbourhood_group       neighbourhood  latitude  \\\n",
       "0               John            Brooklyn          Kensington  40.64749   \n",
       "1           Jennifer           Manhattan             Midtown  40.75362   \n",
       "2          Elisabeth           Manhattan              Harlem  40.80902   \n",
       "3        LisaRoxanne            Brooklyn        Clinton Hill  40.68514   \n",
       "4              Laura           Manhattan         East Harlem  40.79851   \n",
       "5              Chris           Manhattan         Murray Hill  40.74767   \n",
       "6              Garon            Brooklyn  Bedford-Stuyvesant  40.68688   \n",
       "7           Shunichi           Manhattan      Hell's Kitchen  40.76489   \n",
       "8          MaryEllen           Manhattan     Upper West Side  40.80178   \n",
       "9                Ben           Manhattan           Chinatown  40.71344   \n",
       "10              Lena           Manhattan     Upper West Side  40.80316   \n",
       "11              Kate           Manhattan      Hell's Kitchen  40.76076   \n",
       "12            Laurie            Brooklyn         South Slope  40.66829   \n",
       "13           Claudio           Manhattan     Upper West Side  40.79826   \n",
       "14             Alina           Manhattan        West Village  40.73530   \n",
       "15     Allen & Irina            Brooklyn        Williamsburg  40.70837   \n",
       "16              Jane            Brooklyn         Fort Greene  40.69169   \n",
       "17              Doti           Manhattan             Chelsea  40.74192   \n",
       "18  Adam And Charity            Brooklyn       Crown Heights  40.67592   \n",
       "19              Sing           Manhattan         East Harlem  40.79685   \n",
       "20             Chaya            Brooklyn        Williamsburg  40.71842   \n",
       "21             Lisel            Brooklyn          Park Slope  40.68069   \n",
       "22             Lisel            Brooklyn          Park Slope  40.67989   \n",
       "23             Lisel            Brooklyn          Park Slope  40.68001   \n",
       "24          Nathalie            Brooklyn  Bedford-Stuyvesant  40.68371   \n",
       "25           Gregory            Brooklyn     Windsor Terrace  40.65599   \n",
       "26   Claude & Sophie           Manhattan              Inwood  40.86754   \n",
       "27             Tommi           Manhattan      Hell's Kitchen  40.76715   \n",
       "28              Shon           Manhattan              Inwood  40.86482   \n",
       "29              Dana           Manhattan        East Village  40.72920   \n",
       "\n",
       "    longitude        room_type  price  minimum_nights  number_of_reviews  \\\n",
       "0   -73.97237     Private room    149               1                  9   \n",
       "1   -73.98377  Entire home/apt    225               1                 45   \n",
       "2   -73.94190     Private room    150               3                  0   \n",
       "3   -73.95976  Entire home/apt     89               1                270   \n",
       "4   -73.94399  Entire home/apt     80              10                  9   \n",
       "5   -73.97500  Entire home/apt    200               3                 74   \n",
       "6   -73.95596     Private room     60              45                 49   \n",
       "7   -73.98493     Private room     79               2                430   \n",
       "8   -73.96723     Private room     79               2                118   \n",
       "9   -73.99037  Entire home/apt    150               1                160   \n",
       "10  -73.96545  Entire home/apt    135               5                 53   \n",
       "11  -73.98867     Private room     85               2                188   \n",
       "12  -73.98779     Private room     89               4                167   \n",
       "13  -73.96113     Private room     85               2                113   \n",
       "14  -74.00525  Entire home/apt    120              90                 27   \n",
       "15  -73.95352  Entire home/apt    140               2                148   \n",
       "16  -73.97185  Entire home/apt    215               2                198   \n",
       "17  -73.99501     Private room    140               1                260   \n",
       "18  -73.94694  Entire home/apt     99               3                 53   \n",
       "19  -73.94872  Entire home/apt    190               7                  0   \n",
       "20  -73.95718  Entire home/apt    299               3                  9   \n",
       "21  -73.97706     Private room    130               2                130   \n",
       "22  -73.97798     Private room     80               1                 39   \n",
       "23  -73.97865     Private room    110               2                 71   \n",
       "24  -73.94028  Entire home/apt    120               2                 88   \n",
       "25  -73.97519     Private room     60               1                 19   \n",
       "26  -73.92639     Private room     80               4                  0   \n",
       "27  -73.98533  Entire home/apt    150              10                 58   \n",
       "28  -73.92106     Private room     44               3                108   \n",
       "29  -73.98542  Entire home/apt    180              14                 29   \n",
       "\n",
       "   last_review  reviews_per_month  calculated_host_listings_count  \\\n",
       "0   2018-10-19               0.21                               6   \n",
       "1   2019-05-21               0.38                               2   \n",
       "2          NaT                NaN                               1   \n",
       "3   2019-05-07               4.64                               1   \n",
       "4   2018-11-19               0.10                               1   \n",
       "5   2019-06-22               0.59                               1   \n",
       "6   2017-05-10               0.40                               1   \n",
       "7   2019-06-24               3.47                               1   \n",
       "8   2017-07-21               0.99                               1   \n",
       "9   2019-09-06               1.33                               4   \n",
       "10  2019-06-22               0.43                               1   \n",
       "11  2019-06-23               1.50                               1   \n",
       "12  2019-06-24               1.34                               3   \n",
       "13  2019-05-07               0.91                               1   \n",
       "14  2018-10-31               0.22                               1   \n",
       "15  2019-06-29               1.20                               1   \n",
       "16  2019-06-28               1.72                               1   \n",
       "17  2019-01-07               2.12                               1   \n",
       "18  2019-06-22               4.44                               1   \n",
       "19         NaT                NaN                               2   \n",
       "20  2011-12-28               0.07                               1   \n",
       "21  2019-01-07               1.09                               6   \n",
       "22  2019-01-01               0.37                               6   \n",
       "23  2019-02-07               0.61                               6   \n",
       "24  2019-06-19               0.73                               2   \n",
       "25  2019-06-23               1.37                               2   \n",
       "26         NaT                NaN                               1   \n",
       "27  2017-08-13               0.49                               1   \n",
       "28  2019-06-15               1.11                               3   \n",
       "29  2019-04-19               0.24                               1   \n",
       "\n",
       "    availability_365 availabilty_365_categories minimum_nights_categories  \\\n",
       "0                365                  very High                  very Low   \n",
       "1                355                  very High                  very Low   \n",
       "2                365                  very High                       Low   \n",
       "3                194                     Medium                  very Low   \n",
       "4                  0                   very Low                 very High   \n",
       "5                129                     Medium                       Low   \n",
       "6                  0                   very Low                 very High   \n",
       "7                220                       High                       Low   \n",
       "8                  0                   very Low                       Low   \n",
       "9                188                     Medium                  very Low   \n",
       "10                 6                        Low                    Medium   \n",
       "11                39                        Low                       Low   \n",
       "12               314                  very High                    Medium   \n",
       "13               333                  very High                       Low   \n",
       "14                 0                   very Low                 very High   \n",
       "15                46                        Low                       Low   \n",
       "16               321                  very High                       Low   \n",
       "17                12                        Low                  very Low   \n",
       "18                21                        Low                       Low   \n",
       "19               249                       High                      High   \n",
       "20                 0                   very Low                       Low   \n",
       "21               347                  very High                       Low   \n",
       "22               364                  very High                  very Low   \n",
       "23               304                  very High                       Low   \n",
       "24               233                       High                       Low   \n",
       "25                85                        Low                  very Low   \n",
       "26                 0                   very Low                    Medium   \n",
       "27                75                        Low                 very High   \n",
       "28               311                  very High                       Low   \n",
       "29                67                        Low                 very High   \n",
       "\n",
       "   number_of_reviews_categories price_categories  \n",
       "0                      very Low         very Low  \n",
       "1                      very Low         very Low  \n",
       "2                           Low              Low  \n",
       "3                      very Low         very Low  \n",
       "4                        Medium           Medium  \n",
       "5                           Low              Low  \n",
       "6                     very High             High  \n",
       "7                           Low              Low  \n",
       "8                           Low              Low  \n",
       "9                      very Low         very Low  \n",
       "10                          Low           Medium  \n",
       "11                          Low              Low  \n",
       "12                          Low              Low  \n",
       "13                          Low              Low  \n",
       "14                    very High             High  \n",
       "15                          Low              Low  \n",
       "16                          Low              Low  \n",
       "17                     very Low         very Low  \n",
       "18                          Low              Low  \n",
       "19                       Medium           Medium  \n",
       "20                          Low              Low  \n",
       "21                          Low              Low  \n",
       "22                     very Low         very Low  \n",
       "23                          Low              Low  \n",
       "24                          Low              Low  \n",
       "25                     very Low         very Low  \n",
       "26                          Low              Low  \n",
       "27                       Medium           Medium  \n",
       "28                          Low              Low  \n",
       "29                         High           Medium  "
      ]
     },
     "execution_count": 492,
     "metadata": {},
     "output_type": "execute_result"
    }
   ],
   "source": [
    "inp0.head(30)"
   ]
  },
  {
   "cell_type": "markdown",
   "id": "51b661e8",
   "metadata": {},
   "source": [
    "## 6.1 NAME"
   ]
  },
  {
   "cell_type": "code",
   "execution_count": 493,
   "id": "91646950",
   "metadata": {},
   "outputs": [
    {
     "data": {
      "text/plain": [
       "16"
      ]
     },
     "execution_count": 493,
     "metadata": {},
     "output_type": "execute_result"
    }
   ],
   "source": [
    "inp0.name.isnull().sum()"
   ]
  },
  {
   "cell_type": "code",
   "execution_count": 494,
   "id": "bb35aeb2",
   "metadata": {},
   "outputs": [
    {
     "data": {
      "text/plain": [
       "Hillside Hotel                                        18\n",
       "Home away from home                                   17\n",
       "New york Multi-unit building                          16\n",
       "Brooklyn Apartment                                    12\n",
       "Loft Suite @ The Box House Hotel                      11\n",
       "                                                      ..\n",
       "Brownstone garden 2 bedroom duplex, Central Park       1\n",
       "Bright Cozy Private Room near Columbia Univ            1\n",
       "1 bdrm/large studio in a great location                1\n",
       "Cozy Private Room #2 Two Beds Near JFK and J Train     1\n",
       "Trendy duplex in the very heart of Hell's Kitchen      1\n",
       "Name: name, Length: 47896, dtype: int64"
      ]
     },
     "execution_count": 494,
     "metadata": {},
     "output_type": "execute_result"
    }
   ],
   "source": [
    "inp0.name.value_counts()"
   ]
  },
  {
   "cell_type": "markdown",
   "id": "58ca9b6a",
   "metadata": {},
   "source": [
    "## 6.2 HOST ID "
   ]
  },
  {
   "cell_type": "code",
   "execution_count": 495,
   "id": "346cdd6b",
   "metadata": {},
   "outputs": [
    {
     "data": {
      "text/plain": [
       "0"
      ]
     },
     "execution_count": 495,
     "metadata": {},
     "output_type": "execute_result"
    }
   ],
   "source": [
    "inp0.host_id.isnull().sum()"
   ]
  },
  {
   "cell_type": "code",
   "execution_count": 496,
   "id": "ffd9a543",
   "metadata": {},
   "outputs": [
    {
     "data": {
      "text/plain": [
       "219517861    327\n",
       "107434423    232\n",
       "30283594     121\n",
       "137358866    103\n",
       "16098958      96\n",
       "            ... \n",
       "23727216       1\n",
       "89211125       1\n",
       "19928013       1\n",
       "1017772        1\n",
       "68119814       1\n",
       "Name: host_id, Length: 37457, dtype: int64"
      ]
     },
     "execution_count": 496,
     "metadata": {},
     "output_type": "execute_result"
    }
   ],
   "source": [
    "inp0.host_id.value_counts()"
   ]
  },
  {
   "cell_type": "markdown",
   "id": "936098db",
   "metadata": {},
   "source": [
    "## 6.3 HOST NAME"
   ]
  },
  {
   "cell_type": "code",
   "execution_count": 497,
   "id": "48c2de55",
   "metadata": {},
   "outputs": [
    {
     "data": {
      "text/plain": [
       "21"
      ]
     },
     "execution_count": 497,
     "metadata": {},
     "output_type": "execute_result"
    }
   ],
   "source": [
    "inp0.host_name.isnull().sum()"
   ]
  },
  {
   "cell_type": "code",
   "execution_count": 498,
   "id": "d6f6068c",
   "metadata": {},
   "outputs": [
    {
     "data": {
      "text/plain": [
       "Michael              417\n",
       "David                403\n",
       "Sonder (NYC)         327\n",
       "John                 294\n",
       "Alex                 279\n",
       "                    ... \n",
       "Rhonycs                1\n",
       "Brandy-Courtney        1\n",
       "Shanthony              1\n",
       "Aurore And Jamila      1\n",
       "Ilgar & Aysel          1\n",
       "Name: host_name, Length: 11452, dtype: int64"
      ]
     },
     "execution_count": 498,
     "metadata": {},
     "output_type": "execute_result"
    }
   ],
   "source": [
    "inp0.host_name.value_counts()"
   ]
  },
  {
   "cell_type": "code",
   "execution_count": 499,
   "id": "dd8d8cd9",
   "metadata": {},
   "outputs": [
    {
     "data": {
      "text/plain": [
       "Index(['Michael', 'David', 'Sonder (NYC)', 'John', 'Alex', 'Blueground',\n",
       "       'Sarah', 'Daniel', 'Jessica', 'Maria'],\n",
       "      dtype='object')"
      ]
     },
     "execution_count": 499,
     "metadata": {},
     "output_type": "execute_result"
    }
   ],
   "source": [
    "inp0.host_name.value_counts().index[:10]"
   ]
  },
  {
   "cell_type": "code",
   "execution_count": 500,
   "id": "f5f03b99",
   "metadata": {},
   "outputs": [
    {
     "data": {
      "image/png": "[encoded data removed]",
      "text/plain": [
       "<Figure size 1000x1000 with 1 Axes>"
      ]
     },
     "metadata": {},
     "output_type": "display_data"
    }
   ],
   "source": [
    "# Top 10 host's\n",
    "plt.figure(figsize=(10,10))\n",
    "sns.barplot(x = inp0.host_name.value_counts().index[:10] , y = inp0.host_name.value_counts().values[:10])\n",
    "plt.show()"
   ]
  },
  {
   "cell_type": "markdown",
   "id": "d0b3ee6d",
   "metadata": {},
   "source": [
    "## 6.4 NEIGHBOIRHOOD GROUP"
   ]
  },
  {
   "cell_type": "code",
   "execution_count": 501,
   "id": "a2e28e74",
   "metadata": {},
   "outputs": [
    {
     "data": {
      "text/plain": [
       "0"
      ]
     },
     "execution_count": 501,
     "metadata": {},
     "output_type": "execute_result"
    }
   ],
   "source": [
    "inp0.neighbourhood_group.isnull().sum()"
   ]
  },
  {
   "cell_type": "code",
   "execution_count": 502,
   "id": "4e56a338",
   "metadata": {},
   "outputs": [
    {
     "data": {
      "text/plain": [
       "Manhattan        21661\n",
       "Brooklyn         20104\n",
       "Queens            5666\n",
       "Bronx             1091\n",
       "Staten Island      373\n",
       "Name: neighbourhood_group, dtype: int64"
      ]
     },
     "execution_count": 502,
     "metadata": {},
     "output_type": "execute_result"
    }
   ],
   "source": [
    "inp0.neighbourhood_group.value_counts()"
   ]
  },
  {
   "cell_type": "code",
   "execution_count": 503,
   "id": "98545def",
   "metadata": {},
   "outputs": [
    {
     "data": {
      "text/plain": [
       "Manhattan        44.301053\n",
       "Brooklyn         41.116679\n",
       "Queens           11.588097\n",
       "Bronx             2.231312\n",
       "Staten Island     0.762859\n",
       "Name: neighbourhood_group, dtype: float64"
      ]
     },
     "execution_count": 503,
     "metadata": {},
     "output_type": "execute_result"
    }
   ],
   "source": [
    "inp0.neighbourhood_group.value_counts(normalize=True)*100"
   ]
  },
  {
   "cell_type": "code",
   "execution_count": 504,
   "id": "c623834b",
   "metadata": {},
   "outputs": [
    {
     "data": {
      "image/png": "[encoded data removed]",
      "text/plain": [
       "<Figure size 800x800 with 1 Axes>"
      ]
     },
     "metadata": {},
     "output_type": "display_data"
    }
   ],
   "source": [
    "plt.figure(figsize=(8,8))\n",
    "plt.pie(x = inp0.neighbourhood_group.value_counts(normalize= True) * 100,labels = inp0.neighbourhood_group.value_counts(normalize= True).index)\n",
    "plt.legend()\n",
    "plt.show()"
   ]
  },
  {
   "cell_type": "markdown",
   "id": "60d41c0b",
   "metadata": {},
   "source": [
    "85 % of the listing are Manhattan and Brooklyn neighbourhood_group"
   ]
  },
  {
   "cell_type": "markdown",
   "id": "9a355f81",
   "metadata": {},
   "source": [
    "## 6.5 NEIGHBOURHOOD"
   ]
  },
  {
   "cell_type": "code",
   "execution_count": 505,
   "id": "e4adf818",
   "metadata": {},
   "outputs": [
    {
     "data": {
      "text/plain": [
       "0"
      ]
     },
     "execution_count": 505,
     "metadata": {},
     "output_type": "execute_result"
    }
   ],
   "source": [
    "inp0.neighbourhood.isnull().sum()"
   ]
  },
  {
   "cell_type": "code",
   "execution_count": 506,
   "id": "887502c3",
   "metadata": {},
   "outputs": [
    {
     "data": {
      "text/plain": [
       "Williamsburg          3920\n",
       "Bedford-Stuyvesant    3714\n",
       "Harlem                2658\n",
       "Bushwick              2465\n",
       "Upper West Side       1971\n",
       "                      ... \n",
       "Fort Wadsworth           1\n",
       "Richmondtown             1\n",
       "New Dorp                 1\n",
       "Rossville                1\n",
       "Willowbrook              1\n",
       "Name: neighbourhood, Length: 221, dtype: int64"
      ]
     },
     "execution_count": 506,
     "metadata": {},
     "output_type": "execute_result"
    }
   ],
   "source": [
    "inp0.neighbourhood.value_counts()"
   ]
  },
  {
   "cell_type": "markdown",
   "id": "d01cfa3a",
   "metadata": {},
   "source": [
    "## 6.6 ROOM TYPE"
   ]
  },
  {
   "cell_type": "code",
   "execution_count": 507,
   "id": "169c95b5",
   "metadata": {},
   "outputs": [
    {
     "data": {
      "text/plain": [
       "Entire home/apt    25409\n",
       "Private room       22326\n",
       "Shared room         1160\n",
       "Name: room_type, dtype: int64"
      ]
     },
     "execution_count": 507,
     "metadata": {},
     "output_type": "execute_result"
    }
   ],
   "source": [
    "inp0.room_type.value_counts()"
   ]
  },
  {
   "cell_type": "code",
   "execution_count": 508,
   "id": "fbdf8db2",
   "metadata": {},
   "outputs": [
    {
     "data": {
      "text/plain": [
       "Entire home/apt    51.966459\n",
       "Private room       45.661111\n",
       "Shared room         2.372431\n",
       "Name: room_type, dtype: float64"
      ]
     },
     "execution_count": 508,
     "metadata": {},
     "output_type": "execute_result"
    }
   ],
   "source": [
    "inp0.room_type.value_counts(normalize=True)*100"
   ]
  },
  {
   "cell_type": "code",
   "execution_count": 509,
   "id": "24160188",
   "metadata": {},
   "outputs": [
    {
     "data": {
      "image/png": "[encoded data removed]",
      "text/plain": [
       "<Figure size 800x800 with 1 Axes>"
      ]
     },
     "metadata": {},
     "output_type": "display_data"
    }
   ],
   "source": [
    "plt.figure(figsize=(8,8))\n",
    "plt.pie(x = inp0.room_type.value_counts(normalize= True) * 100,labels = inp0.room_type.value_counts(normalize= True).index,counterclock=True)\n",
    "plt.legend()\n",
    "plt.show()"
   ]
  },
  {
   "cell_type": "markdown",
   "id": "84b76483",
   "metadata": {},
   "source": [
    "## 6.7 Price"
   ]
  },
  {
   "cell_type": "code",
   "execution_count": 510,
   "id": "f062a2d7",
   "metadata": {},
   "outputs": [
    {
     "data": {
      "image/png": "[encoded data removed]",
      "text/plain": [
       "<Figure size 640x480 with 1 Axes>"
      ]
     },
     "metadata": {},
     "output_type": "display_data"
    }
   ],
   "source": [
    "inp0.price.value_counts(normalize=True).plot.hist()\n",
    "plt.show()"
   ]
  },
  {
   "cell_type": "code",
   "execution_count": 511,
   "id": "fedb57ce",
   "metadata": {},
   "outputs": [
    {
     "name": "stderr",
     "output_type": "stream",
     "text": [
      "C:\\Users\\Administrator\\AppData\\Local\\Temp\\ipykernel_15496\\4203382358.py:1: UserWarning: \n",
      "\n",
      "`distplot` is a deprecated function and will be removed in seaborn v0.14.0.\n",
      "\n",
      "Please adapt your code to use either `displot` (a figure-level function with\n",
      "similar flexibility) or `histplot` (an axes-level function for histograms).\n",
      "\n",
      "For a guide to updating your code to use the new functions, please see\n",
      "https://gist.github.com/mwaskom/de44147ed2974457ad6372750bbe5751\n",
      "\n",
      "  sns.distplot(inp0.price,kde=True)\n"
     ]
    },
    {
     "data": {
      "image/png": "[encoded data removed]",
      "text/plain": [
       "<Figure size 640x480 with 1 Axes>"
      ]
     },
     "metadata": {},
     "output_type": "display_data"
    }
   ],
   "source": [
    "sns.distplot(inp0.price,kde=True)\n",
    "plt.show()"
   ]
  },
  {
   "cell_type": "code",
   "execution_count": 512,
   "id": "1dd8bcfe",
   "metadata": {},
   "outputs": [
    {
     "data": {
      "image/png": "[encoded data removed]",
      "text/plain": [
       "<Figure size 640x480 with 1 Axes>"
      ]
     },
     "metadata": {},
     "output_type": "display_data"
    }
   ],
   "source": [
    "sns.boxplot(inp0.price)\n",
    "plt.show()"
   ]
  },
  {
   "cell_type": "markdown",
   "id": "241858bb",
   "metadata": {},
   "source": [
    "## 6.8 MINIMUM NIGHTS"
   ]
  },
  {
   "cell_type": "code",
   "execution_count": 513,
   "id": "b0fb153c",
   "metadata": {},
   "outputs": [
    {
     "data": {
      "text/plain": [
       "count    48895.000000\n",
       "mean         7.029962\n",
       "std         20.510550\n",
       "min          1.000000\n",
       "25%          1.000000\n",
       "50%          3.000000\n",
       "75%          5.000000\n",
       "max       1250.000000\n",
       "Name: minimum_nights, dtype: float64"
      ]
     },
     "execution_count": 513,
     "metadata": {},
     "output_type": "execute_result"
    }
   ],
   "source": [
    "inp0.minimum_nights.describe()"
   ]
  },
  {
   "cell_type": "code",
   "execution_count": 514,
   "id": "b8411099",
   "metadata": {},
   "outputs": [
    {
     "data": {
      "text/plain": [
       "0"
      ]
     },
     "execution_count": 514,
     "metadata": {},
     "output_type": "execute_result"
    }
   ],
   "source": [
    "inp0.minimum_nights.isnull().sum()"
   ]
  },
  {
   "cell_type": "code",
   "execution_count": 515,
   "id": "36e88a41",
   "metadata": {},
   "outputs": [
    {
     "data": {
      "image/png": "[encoded data removed]",
      "text/plain": [
       "<Figure size 640x480 with 1 Axes>"
      ]
     },
     "metadata": {},
     "output_type": "display_data"
    }
   ],
   "source": [
    "sns.boxplot(inp0.minimum_nights)\n",
    "plt.show()"
   ]
  },
  {
   "cell_type": "markdown",
   "id": "8b6af978",
   "metadata": {},
   "source": [
    "## 6.9 NUMBER OF REVIEWS"
   ]
  },
  {
   "cell_type": "code",
   "execution_count": 516,
   "id": "b4922a53",
   "metadata": {},
   "outputs": [
    {
     "data": {
      "text/plain": [
       "count    48895.000000\n",
       "mean        23.274466\n",
       "std         44.550582\n",
       "min          0.000000\n",
       "25%          1.000000\n",
       "50%          5.000000\n",
       "75%         24.000000\n",
       "max        629.000000\n",
       "Name: number_of_reviews, dtype: float64"
      ]
     },
     "execution_count": 516,
     "metadata": {},
     "output_type": "execute_result"
    }
   ],
   "source": [
    "inp0.number_of_reviews.describe()"
   ]
  },
  {
   "cell_type": "code",
   "execution_count": 517,
   "id": "5caa8405",
   "metadata": {},
   "outputs": [
    {
     "data": {
      "image/png": "[encoded data removed]",
      "text/plain": [
       "<Figure size 640x480 with 1 Axes>"
      ]
     },
     "metadata": {},
     "output_type": "display_data"
    }
   ],
   "source": [
    "inp0.number_of_reviews.value_counts(normalize=True).plot.hist()\n",
    "plt.show()"
   ]
  },
  {
   "cell_type": "code",
   "execution_count": 518,
   "id": "fe10887e",
   "metadata": {},
   "outputs": [
    {
     "name": "stderr",
     "output_type": "stream",
     "text": [
      "C:\\Users\\Administrator\\AppData\\Local\\Temp\\ipykernel_15496\\4258575927.py:1: UserWarning: \n",
      "\n",
      "`distplot` is a deprecated function and will be removed in seaborn v0.14.0.\n",
      "\n",
      "Please adapt your code to use either `displot` (a figure-level function with\n",
      "similar flexibility) or `histplot` (an axes-level function for histograms).\n",
      "\n",
      "For a guide to updating your code to use the new functions, please see\n",
      "https://gist.github.com/mwaskom/de44147ed2974457ad6372750bbe5751\n",
      "\n",
      "  sns.distplot(inp0.number_of_reviews)\n"
     ]
    },
    {
     "data": {
      "image/png": "[encoded data removed]",
      "text/plain": [
       "<Figure size 640x480 with 1 Axes>"
      ]
     },
     "metadata": {},
     "output_type": "display_data"
    }
   ],
   "source": [
    "sns.distplot(inp0.number_of_reviews)\n",
    "plt.show()"
   ]
  },
  {
   "cell_type": "markdown",
   "id": "861e2c5f",
   "metadata": {},
   "source": [
    "## 6.10 reviews per month"
   ]
  },
  {
   "cell_type": "code",
   "execution_count": 519,
   "id": "6d5b3650",
   "metadata": {},
   "outputs": [
    {
     "data": {
      "text/plain": [
       "count    38843.000000\n",
       "mean         1.373221\n",
       "std          1.680442\n",
       "min          0.010000\n",
       "25%          0.190000\n",
       "50%          0.720000\n",
       "75%          2.020000\n",
       "max         58.500000\n",
       "Name: reviews_per_month, dtype: float64"
      ]
     },
     "execution_count": 519,
     "metadata": {},
     "output_type": "execute_result"
    }
   ],
   "source": [
    "inp0.reviews_per_month.describe()"
   ]
  },
  {
   "cell_type": "code",
   "execution_count": 520,
   "id": "4412cde7",
   "metadata": {},
   "outputs": [
    {
     "data": {
      "text/plain": [
       "<Axes: ylabel='Frequency'>"
      ]
     },
     "execution_count": 520,
     "metadata": {},
     "output_type": "execute_result"
    },
    {
     "data": {
      "image/png": "[encoded data removed]",
      "text/plain": [
       "<Figure size 640x480 with 1 Axes>"
      ]
     },
     "metadata": {},
     "output_type": "display_data"
    }
   ],
   "source": [
    "inp0.reviews_per_month.value_counts(normalize=True).plot.hist()"
   ]
  },
  {
   "cell_type": "code",
   "execution_count": 521,
   "id": "3bbfa2e4",
   "metadata": {},
   "outputs": [
    {
     "data": {
      "image/png": "[encoded data removed]",
      "text/plain": [
       "<Figure size 500x500 with 1 Axes>"
      ]
     },
     "metadata": {},
     "output_type": "display_data"
    }
   ],
   "source": [
    "sns.displot(inp0.reviews_per_month)\n",
    "plt.show()"
   ]
  },
  {
   "cell_type": "markdown",
   "id": "df4aaa98",
   "metadata": {},
   "source": [
    "## 6.11 AVAILABILITY 365"
   ]
  },
  {
   "cell_type": "code",
   "execution_count": 522,
   "id": "aacfebe6",
   "metadata": {},
   "outputs": [
    {
     "data": {
      "text/plain": [
       "count    48895.000000\n",
       "mean       112.781327\n",
       "std        131.622289\n",
       "min          0.000000\n",
       "25%          0.000000\n",
       "50%         45.000000\n",
       "75%        227.000000\n",
       "max        365.000000\n",
       "Name: availability_365, dtype: float64"
      ]
     },
     "execution_count": 522,
     "metadata": {},
     "output_type": "execute_result"
    }
   ],
   "source": [
    "inp0.availability_365.describe()"
   ]
  },
  {
   "cell_type": "code",
   "execution_count": 523,
   "id": "ab3e5145",
   "metadata": {},
   "outputs": [
    {
     "data": {
      "image/png": "[encoded data removed]",
      "text/plain": [
       "<Figure size 640x480 with 1 Axes>"
      ]
     },
     "metadata": {},
     "output_type": "display_data"
    }
   ],
   "source": [
    "inp0.availability_365.value_counts(normalize=True).plot.hist()\n",
    "plt.show()"
   ]
  },
  {
   "cell_type": "code",
   "execution_count": 524,
   "id": "5f075db3",
   "metadata": {},
   "outputs": [
    {
     "data": {
      "image/png": "[encoded data removed]",
      "text/plain": [
       "<Figure size 640x480 with 1 Axes>"
      ]
     },
     "metadata": {},
     "output_type": "display_data"
    }
   ],
   "source": [
    "sns.histplot(inp0.availability_365,bins = 20,kde = True)\n",
    "plt.show()"
   ]
  },
  {
   "cell_type": "code",
   "execution_count": 525,
   "id": "938581f2",
   "metadata": {},
   "outputs": [
    {
     "data": {
      "image/png": "[encoded data removed]",
      "text/plain": [
       "<Figure size 640x480 with 1 Axes>"
      ]
     },
     "metadata": {},
     "output_type": "display_data"
    }
   ],
   "source": [
    "sns.boxplot(inp0.availability_365)\n",
    "plt.show()"
   ]
  },
  {
   "cell_type": "markdown",
   "id": "cffd88f0",
   "metadata": {},
   "source": [
    "## 6.13 MINIMUM NIGHT CATEGORIES "
   ]
  },
  {
   "cell_type": "code",
   "execution_count": 526,
   "id": "d5efc4e8",
   "metadata": {},
   "outputs": [
    {
     "data": {
      "image/png": "[encoded data removed]",
      "text/plain": [
       "<Figure size 800x800 with 1 Axes>"
      ]
     },
     "metadata": {},
     "output_type": "display_data"
    }
   ],
   "source": [
    "plt.figure(figsize=(8,8))\n",
    "inp0.minimum_nights_categories.value_counts(normalize=True).plot.pie()\n",
    "plt.legend()\n",
    "plt.show()"
   ]
  },
  {
   "cell_type": "markdown",
   "id": "46b087d9",
   "metadata": {},
   "source": [
    "## 6.14 PRICE CATEGORY"
   ]
  },
  {
   "cell_type": "code",
   "execution_count": 527,
   "id": "499cf0db",
   "metadata": {},
   "outputs": [
    {
     "data": {
      "image/png": "[encoded data removed]",
      "text/plain": [
       "<Figure size 640x480 with 1 Axes>"
      ]
     },
     "metadata": {},
     "output_type": "display_data"
    }
   ],
   "source": [
    "inp0.price_categories.value_counts(normalize=True).plot.pie()\n",
    "plt.show()"
   ]
  },
  {
   "cell_type": "markdown",
   "id": "b69451c1",
   "metadata": {},
   "source": [
    "# 7. BIVARIATE AND MULTIVARIATE ANALYSIS"
   ]
  },
  {
   "cell_type": "code",
   "execution_count": 528,
   "id": "df702729",
   "metadata": {},
   "outputs": [
    {
     "data": {
      "text/html": [
       "<div>\n",
       "<style scoped>\n",
       "    .dataframe tbody tr th:only-of-type {\n",
       "        vertical-align: middle;\n",
       "    }\n",
       "\n",
       "    .dataframe tbody tr th {\n",
       "        vertical-align: top;\n",
       "    }\n",
       "\n",
       "    .dataframe thead th {\n",
       "        text-align: right;\n",
       "    }\n",
       "</style>\n",
       "<table border=\"1\" class=\"dataframe\">\n",
       "  <thead>\n",
       "    <tr style=\"text-align: right;\">\n",
       "      <th></th>\n",
       "      <th>id</th>\n",
       "      <th>host_id</th>\n",
       "      <th>price</th>\n",
       "      <th>minimum_nights</th>\n",
       "      <th>number_of_reviews</th>\n",
       "      <th>calculated_host_listings_count</th>\n",
       "      <th>availability_365</th>\n",
       "    </tr>\n",
       "  </thead>\n",
       "  <tbody>\n",
       "    <tr>\n",
       "      <th>0</th>\n",
       "      <td>2539</td>\n",
       "      <td>2787</td>\n",
       "      <td>149</td>\n",
       "      <td>1</td>\n",
       "      <td>9</td>\n",
       "      <td>6</td>\n",
       "      <td>365</td>\n",
       "    </tr>\n",
       "    <tr>\n",
       "      <th>1</th>\n",
       "      <td>2595</td>\n",
       "      <td>2845</td>\n",
       "      <td>225</td>\n",
       "      <td>1</td>\n",
       "      <td>45</td>\n",
       "      <td>2</td>\n",
       "      <td>355</td>\n",
       "    </tr>\n",
       "    <tr>\n",
       "      <th>2</th>\n",
       "      <td>3647</td>\n",
       "      <td>4632</td>\n",
       "      <td>150</td>\n",
       "      <td>3</td>\n",
       "      <td>0</td>\n",
       "      <td>1</td>\n",
       "      <td>365</td>\n",
       "    </tr>\n",
       "    <tr>\n",
       "      <th>3</th>\n",
       "      <td>3831</td>\n",
       "      <td>4869</td>\n",
       "      <td>89</td>\n",
       "      <td>1</td>\n",
       "      <td>270</td>\n",
       "      <td>1</td>\n",
       "      <td>194</td>\n",
       "    </tr>\n",
       "    <tr>\n",
       "      <th>4</th>\n",
       "      <td>5022</td>\n",
       "      <td>7192</td>\n",
       "      <td>80</td>\n",
       "      <td>10</td>\n",
       "      <td>9</td>\n",
       "      <td>1</td>\n",
       "      <td>0</td>\n",
       "    </tr>\n",
       "  </tbody>\n",
       "</table>\n",
       "</div>"
      ],
      "text/plain": [
       "     id  host_id  price  minimum_nights  number_of_reviews  \\\n",
       "0  2539     2787    149               1                  9   \n",
       "1  2595     2845    225               1                 45   \n",
       "2  3647     4632    150               3                  0   \n",
       "3  3831     4869     89               1                270   \n",
       "4  5022     7192     80              10                  9   \n",
       "\n",
       "   calculated_host_listings_count  availability_365  \n",
       "0                               6               365  \n",
       "1                               2               355  \n",
       "2                               1               365  \n",
       "3                               1               194  \n",
       "4                               1                 0  "
      ]
     },
     "execution_count": 528,
     "metadata": {},
     "output_type": "execute_result"
    }
   ],
   "source": [
    "inp0[numerical_columns].head()"
   ]
  },
  {
   "cell_type": "code",
   "execution_count": 529,
   "id": "67c51d8e",
   "metadata": {},
   "outputs": [
    {
     "data": {
      "image/png": "[encoded data removed]",
      "text/plain": [
       "<Figure size 640x480 with 2 Axes>"
      ]
     },
     "metadata": {},
     "output_type": "display_data"
    }
   ],
   "source": [
    "res = inp0[numerical_columns].corr()\n",
    "sns.heatmap(res, annot=True)\n",
    "plt.show()"
   ]
  },
  {
   "cell_type": "code",
   "execution_count": 530,
   "id": "444f9c97",
   "metadata": {},
   "outputs": [],
   "source": [
    "corr_matrix = inp0[numerical_columns].corr().abs()\n",
    "\n",
    "#the matrix is symmetric so we need to extract upper triangle matrix without diagonal (k = 1)\n",
    "\n",
    "sol = (corr_matrix.where(np.triu(np.ones(corr_matrix.shape), k=1).astype(bool))\n",
    "                  .stack()\n",
    "                  .sort_values(ascending=False))"
   ]
  },
  {
   "cell_type": "code",
   "execution_count": 531,
   "id": "18a3e952",
   "metadata": {},
   "outputs": [
    {
     "data": {
      "text/html": [
       "<div>\n",
       "<style scoped>\n",
       "    .dataframe tbody tr th:only-of-type {\n",
       "        vertical-align: middle;\n",
       "    }\n",
       "\n",
       "    .dataframe tbody tr th {\n",
       "        vertical-align: top;\n",
       "    }\n",
       "\n",
       "    .dataframe thead th {\n",
       "        text-align: right;\n",
       "    }\n",
       "</style>\n",
       "<table border=\"1\" class=\"dataframe\">\n",
       "  <thead>\n",
       "    <tr style=\"text-align: right;\">\n",
       "      <th></th>\n",
       "      <th>id</th>\n",
       "      <th>host_id</th>\n",
       "      <th>price</th>\n",
       "      <th>minimum_nights</th>\n",
       "      <th>number_of_reviews</th>\n",
       "      <th>calculated_host_listings_count</th>\n",
       "      <th>availability_365</th>\n",
       "    </tr>\n",
       "  </thead>\n",
       "  <tbody>\n",
       "    <tr>\n",
       "      <th>id</th>\n",
       "      <td>1.000000</td>\n",
       "      <td>0.588290</td>\n",
       "      <td>0.010619</td>\n",
       "      <td>0.013224</td>\n",
       "      <td>0.319760</td>\n",
       "      <td>0.133272</td>\n",
       "      <td>0.085468</td>\n",
       "    </tr>\n",
       "    <tr>\n",
       "      <th>host_id</th>\n",
       "      <td>0.588290</td>\n",
       "      <td>1.000000</td>\n",
       "      <td>0.015309</td>\n",
       "      <td>0.017364</td>\n",
       "      <td>0.140106</td>\n",
       "      <td>0.154950</td>\n",
       "      <td>0.203492</td>\n",
       "    </tr>\n",
       "    <tr>\n",
       "      <th>price</th>\n",
       "      <td>0.010619</td>\n",
       "      <td>0.015309</td>\n",
       "      <td>1.000000</td>\n",
       "      <td>0.042799</td>\n",
       "      <td>0.047954</td>\n",
       "      <td>0.057472</td>\n",
       "      <td>0.081829</td>\n",
       "    </tr>\n",
       "    <tr>\n",
       "      <th>minimum_nights</th>\n",
       "      <td>0.013224</td>\n",
       "      <td>0.017364</td>\n",
       "      <td>0.042799</td>\n",
       "      <td>1.000000</td>\n",
       "      <td>0.080116</td>\n",
       "      <td>0.127960</td>\n",
       "      <td>0.144303</td>\n",
       "    </tr>\n",
       "    <tr>\n",
       "      <th>number_of_reviews</th>\n",
       "      <td>0.319760</td>\n",
       "      <td>0.140106</td>\n",
       "      <td>0.047954</td>\n",
       "      <td>0.080116</td>\n",
       "      <td>1.000000</td>\n",
       "      <td>0.072376</td>\n",
       "      <td>0.172028</td>\n",
       "    </tr>\n",
       "    <tr>\n",
       "      <th>calculated_host_listings_count</th>\n",
       "      <td>0.133272</td>\n",
       "      <td>0.154950</td>\n",
       "      <td>0.057472</td>\n",
       "      <td>0.127960</td>\n",
       "      <td>0.072376</td>\n",
       "      <td>1.000000</td>\n",
       "      <td>0.225701</td>\n",
       "    </tr>\n",
       "    <tr>\n",
       "      <th>availability_365</th>\n",
       "      <td>0.085468</td>\n",
       "      <td>0.203492</td>\n",
       "      <td>0.081829</td>\n",
       "      <td>0.144303</td>\n",
       "      <td>0.172028</td>\n",
       "      <td>0.225701</td>\n",
       "      <td>1.000000</td>\n",
       "    </tr>\n",
       "  </tbody>\n",
       "</table>\n",
       "</div>"
      ],
      "text/plain": [
       "                                      id   host_id     price  minimum_nights  \\\n",
       "id                              1.000000  0.588290  0.010619        0.013224   \n",
       "host_id                         0.588290  1.000000  0.015309        0.017364   \n",
       "price                           0.010619  0.015309  1.000000        0.042799   \n",
       "minimum_nights                  0.013224  0.017364  0.042799        1.000000   \n",
       "number_of_reviews               0.319760  0.140106  0.047954        0.080116   \n",
       "calculated_host_listings_count  0.133272  0.154950  0.057472        0.127960   \n",
       "availability_365                0.085468  0.203492  0.081829        0.144303   \n",
       "\n",
       "                                number_of_reviews  \\\n",
       "id                                       0.319760   \n",
       "host_id                                  0.140106   \n",
       "price                                    0.047954   \n",
       "minimum_nights                           0.080116   \n",
       "number_of_reviews                        1.000000   \n",
       "calculated_host_listings_count           0.072376   \n",
       "availability_365                         0.172028   \n",
       "\n",
       "                                calculated_host_listings_count  \\\n",
       "id                                                    0.133272   \n",
       "host_id                                               0.154950   \n",
       "price                                                 0.057472   \n",
       "minimum_nights                                        0.127960   \n",
       "number_of_reviews                                     0.072376   \n",
       "calculated_host_listings_count                        1.000000   \n",
       "availability_365                                      0.225701   \n",
       "\n",
       "                                availability_365  \n",
       "id                                      0.085468  \n",
       "host_id                                 0.203492  \n",
       "price                                   0.081829  \n",
       "minimum_nights                          0.144303  \n",
       "number_of_reviews                       0.172028  \n",
       "calculated_host_listings_count          0.225701  \n",
       "availability_365                        1.000000  "
      ]
     },
     "execution_count": 531,
     "metadata": {},
     "output_type": "execute_result"
    }
   ],
   "source": [
    "corr_matrix"
   ]
  },
  {
   "cell_type": "code",
   "execution_count": 533,
   "id": "27d122dd",
   "metadata": {},
   "outputs": [
    {
     "data": {
      "text/plain": [
       "id                              host_id                           0.588290\n",
       "                                number_of_reviews                 0.319760\n",
       "calculated_host_listings_count  availability_365                  0.225701\n",
       "host_id                         availability_365                  0.203492\n",
       "number_of_reviews               availability_365                  0.172028\n",
       "host_id                         calculated_host_listings_count    0.154950\n",
       "minimum_nights                  availability_365                  0.144303\n",
       "host_id                         number_of_reviews                 0.140106\n",
       "id                              calculated_host_listings_count    0.133272\n",
       "minimum_nights                  calculated_host_listings_count    0.127960\n",
       "id                              availability_365                  0.085468\n",
       "price                           availability_365                  0.081829\n",
       "minimum_nights                  number_of_reviews                 0.080116\n",
       "number_of_reviews               calculated_host_listings_count    0.072376\n",
       "price                           calculated_host_listings_count    0.057472\n",
       "                                number_of_reviews                 0.047954\n",
       "                                minimum_nights                    0.042799\n",
       "host_id                         minimum_nights                    0.017364\n",
       "                                price                             0.015309\n",
       "id                              minimum_nights                    0.013224\n",
       "                                price                             0.010619\n",
       "dtype: float64"
      ]
     },
     "execution_count": 533,
     "metadata": {},
     "output_type": "execute_result"
    }
   ],
   "source": [
    "sol"
   ]
  },
  {
   "cell_type": "markdown",
   "id": "61f9cf34",
   "metadata": {},
   "source": [
    "### ROOM TYPE AND NO OF REVIEW CATEGORY"
   ]
  },
  {
   "cell_type": "code",
   "execution_count": 534,
   "id": "8ac74495",
   "metadata": {},
   "outputs": [
    {
     "data": {
      "text/html": [
       "<div>\n",
       "<style scoped>\n",
       "    .dataframe tbody tr th:only-of-type {\n",
       "        vertical-align: middle;\n",
       "    }\n",
       "\n",
       "    .dataframe tbody tr th {\n",
       "        vertical-align: top;\n",
       "    }\n",
       "\n",
       "    .dataframe thead th {\n",
       "        text-align: right;\n",
       "    }\n",
       "</style>\n",
       "<table border=\"1\" class=\"dataframe\">\n",
       "  <thead>\n",
       "    <tr style=\"text-align: right;\">\n",
       "      <th>number_of_reviews_categories</th>\n",
       "      <th>High</th>\n",
       "      <th>Low</th>\n",
       "      <th>Medium</th>\n",
       "      <th>very High</th>\n",
       "      <th>very Low</th>\n",
       "    </tr>\n",
       "    <tr>\n",
       "      <th>room_type</th>\n",
       "      <th></th>\n",
       "      <th></th>\n",
       "      <th></th>\n",
       "      <th></th>\n",
       "      <th></th>\n",
       "    </tr>\n",
       "  </thead>\n",
       "  <tbody>\n",
       "    <tr>\n",
       "      <th>Entire home/apt</th>\n",
       "      <td>3809</td>\n",
       "      <td>14909</td>\n",
       "      <td>1960</td>\n",
       "      <td>504</td>\n",
       "      <td>4227</td>\n",
       "    </tr>\n",
       "    <tr>\n",
       "      <th>Private room</th>\n",
       "      <td>1950</td>\n",
       "      <td>10769</td>\n",
       "      <td>1494</td>\n",
       "      <td>226</td>\n",
       "      <td>7887</td>\n",
       "    </tr>\n",
       "    <tr>\n",
       "      <th>Shared room</th>\n",
       "      <td>134</td>\n",
       "      <td>354</td>\n",
       "      <td>49</td>\n",
       "      <td>17</td>\n",
       "      <td>606</td>\n",
       "    </tr>\n",
       "  </tbody>\n",
       "</table>\n",
       "</div>"
      ],
      "text/plain": [
       "number_of_reviews_categories  High    Low  Medium  very High  very Low\n",
       "room_type                                                             \n",
       "Entire home/apt               3809  14909    1960        504      4227\n",
       "Private room                  1950  10769    1494        226      7887\n",
       "Shared room                    134    354      49         17       606"
      ]
     },
     "execution_count": 534,
     "metadata": {},
     "output_type": "execute_result"
    }
   ],
   "source": [
    "pd.crosstab(inp0['room_type'], inp0['number_of_reviews_categories'])"
   ]
  },
  {
   "cell_type": "code",
   "execution_count": 535,
   "id": "0371bd67",
   "metadata": {},
   "outputs": [
    {
     "data": {
      "text/plain": [
       "room_type\n",
       "Entire home/apt    580403\n",
       "Private room       538346\n",
       "Shared room         19256\n",
       "Name: number_of_reviews, dtype: int64"
      ]
     },
     "execution_count": 535,
     "metadata": {},
     "output_type": "execute_result"
    }
   ],
   "source": [
    "inp0.groupby('room_type').number_of_reviews.sum() "
   ]
  },
  {
   "cell_type": "code",
   "execution_count": 536,
   "id": "5281ffe7",
   "metadata": {},
   "outputs": [
    {
     "data": {
      "text/plain": [
       "room_type\n",
       "Entire home/apt    22.842418\n",
       "Private room       24.112962\n",
       "Shared room        16.600000\n",
       "dtype: float64"
      ]
     },
     "execution_count": 536,
     "metadata": {},
     "output_type": "execute_result"
    }
   ],
   "source": [
    "inp0.groupby('room_type').number_of_reviews.sum()/inp0.room_type.value_counts()"
   ]
  },
  {
   "cell_type": "markdown",
   "id": "40303eb7",
   "metadata": {},
   "source": [
    "#### The various kinds of properties that exist w.r.t. customer preferences.?\n",
    "#### Entire home/apt have more reviews than Shared rooms\n",
    "#### 'Shared room' are less likey to give reviews. only 16 %"
   ]
  },
  {
   "cell_type": "markdown",
   "id": "2fd6ce0d",
   "metadata": {},
   "source": [
    "### 'availability_365_categories', 'price_categories' and 'reviews_per_month'"
   ]
  },
  {
   "cell_type": "code",
   "execution_count": 538,
   "id": "6df70f4f",
   "metadata": {},
   "outputs": [
    {
     "data": {
      "text/plain": [
       "Low          47.035484\n",
       "very Low     26.014930\n",
       "Medium       15.453523\n",
       "High         11.140198\n",
       "very High     0.355865\n",
       "Name: price_categories, dtype: float64"
      ]
     },
     "execution_count": 538,
     "metadata": {},
     "output_type": "execute_result"
    }
   ],
   "source": [
    "inp0.price_categories.value_counts(normalize=True)*100"
   ]
  },
  {
   "cell_type": "code",
   "execution_count": 542,
   "id": "e7324d07",
   "metadata": {},
   "outputs": [
    {
     "data": {
      "text/html": [
       "<div>\n",
       "<style scoped>\n",
       "    .dataframe tbody tr th:only-of-type {\n",
       "        vertical-align: middle;\n",
       "    }\n",
       "\n",
       "    .dataframe tbody tr th {\n",
       "        vertical-align: top;\n",
       "    }\n",
       "\n",
       "    .dataframe thead th {\n",
       "        text-align: right;\n",
       "    }\n",
       "</style>\n",
       "<table border=\"1\" class=\"dataframe\">\n",
       "  <thead>\n",
       "    <tr style=\"text-align: right;\">\n",
       "      <th></th>\n",
       "      <th></th>\n",
       "      <th>reviews_per_month</th>\n",
       "    </tr>\n",
       "    <tr>\n",
       "      <th>availabilty_365_categories</th>\n",
       "      <th>price_categories</th>\n",
       "      <th></th>\n",
       "    </tr>\n",
       "  </thead>\n",
       "  <tbody>\n",
       "    <tr>\n",
       "      <th rowspan=\"5\" valign=\"top\">High</th>\n",
       "      <th>High</th>\n",
       "      <td>0.598431</td>\n",
       "    </tr>\n",
       "    <tr>\n",
       "      <th>Low</th>\n",
       "      <td>2.200373</td>\n",
       "    </tr>\n",
       "    <tr>\n",
       "      <th>Medium</th>\n",
       "      <td>1.056111</td>\n",
       "    </tr>\n",
       "    <tr>\n",
       "      <th>very High</th>\n",
       "      <td>0.342308</td>\n",
       "    </tr>\n",
       "    <tr>\n",
       "      <th>very Low</th>\n",
       "      <td>3.289381</td>\n",
       "    </tr>\n",
       "    <tr>\n",
       "      <th rowspan=\"5\" valign=\"top\">Low</th>\n",
       "      <th>High</th>\n",
       "      <td>0.638307</td>\n",
       "    </tr>\n",
       "    <tr>\n",
       "      <th>Low</th>\n",
       "      <td>1.783956</td>\n",
       "    </tr>\n",
       "    <tr>\n",
       "      <th>Medium</th>\n",
       "      <td>0.883844</td>\n",
       "    </tr>\n",
       "    <tr>\n",
       "      <th>very High</th>\n",
       "      <td>0.803750</td>\n",
       "    </tr>\n",
       "    <tr>\n",
       "      <th>very Low</th>\n",
       "      <td>2.896114</td>\n",
       "    </tr>\n",
       "    <tr>\n",
       "      <th rowspan=\"5\" valign=\"top\">Medium</th>\n",
       "      <th>High</th>\n",
       "      <td>0.591070</td>\n",
       "    </tr>\n",
       "    <tr>\n",
       "      <th>Low</th>\n",
       "      <td>1.993565</td>\n",
       "    </tr>\n",
       "    <tr>\n",
       "      <th>Medium</th>\n",
       "      <td>1.157492</td>\n",
       "    </tr>\n",
       "    <tr>\n",
       "      <th>very High</th>\n",
       "      <td>0.517500</td>\n",
       "    </tr>\n",
       "    <tr>\n",
       "      <th>very Low</th>\n",
       "      <td>2.893918</td>\n",
       "    </tr>\n",
       "    <tr>\n",
       "      <th rowspan=\"5\" valign=\"top\">very High</th>\n",
       "      <th>High</th>\n",
       "      <td>0.428464</td>\n",
       "    </tr>\n",
       "    <tr>\n",
       "      <th>Low</th>\n",
       "      <td>1.490562</td>\n",
       "    </tr>\n",
       "    <tr>\n",
       "      <th>Medium</th>\n",
       "      <td>0.694283</td>\n",
       "    </tr>\n",
       "    <tr>\n",
       "      <th>very High</th>\n",
       "      <td>0.276571</td>\n",
       "    </tr>\n",
       "    <tr>\n",
       "      <th>very Low</th>\n",
       "      <td>2.206077</td>\n",
       "    </tr>\n",
       "    <tr>\n",
       "      <th rowspan=\"5\" valign=\"top\">very Low</th>\n",
       "      <th>High</th>\n",
       "      <td>0.337780</td>\n",
       "    </tr>\n",
       "    <tr>\n",
       "      <th>Low</th>\n",
       "      <td>0.506051</td>\n",
       "    </tr>\n",
       "    <tr>\n",
       "      <th>Medium</th>\n",
       "      <td>0.276970</td>\n",
       "    </tr>\n",
       "    <tr>\n",
       "      <th>very High</th>\n",
       "      <td>0.480588</td>\n",
       "    </tr>\n",
       "    <tr>\n",
       "      <th>very Low</th>\n",
       "      <td>0.673759</td>\n",
       "    </tr>\n",
       "  </tbody>\n",
       "</table>\n",
       "</div>"
      ],
      "text/plain": [
       "                                             reviews_per_month\n",
       "availabilty_365_categories price_categories                   \n",
       "High                       High                       0.598431\n",
       "                           Low                        2.200373\n",
       "                           Medium                     1.056111\n",
       "                           very High                  0.342308\n",
       "                           very Low                   3.289381\n",
       "Low                        High                       0.638307\n",
       "                           Low                        1.783956\n",
       "                           Medium                     0.883844\n",
       "                           very High                  0.803750\n",
       "                           very Low                   2.896114\n",
       "Medium                     High                       0.591070\n",
       "                           Low                        1.993565\n",
       "                           Medium                     1.157492\n",
       "                           very High                  0.517500\n",
       "                           very Low                   2.893918\n",
       "very High                  High                       0.428464\n",
       "                           Low                        1.490562\n",
       "                           Medium                     0.694283\n",
       "                           very High                  0.276571\n",
       "                           very Low                   2.206077\n",
       "very Low                   High                       0.337780\n",
       "                           Low                        0.506051\n",
       "                           Medium                     0.276970\n",
       "                           very High                  0.480588\n",
       "                           very Low                   0.673759"
      ]
     },
     "execution_count": 542,
     "metadata": {},
     "output_type": "execute_result"
    }
   ],
   "source": [
    "pd.DataFrame(inp0.groupby(['availabilty_365_categories','price_categories']).reviews_per_month.mean())"
   ]
  },
  {
   "cell_type": "markdown",
   "id": "d08ea606",
   "metadata": {},
   "source": [
    "##### If the combination of availability and price is very high, reviews_per_month will be low on average.\n",
    "#### Very high availability and very low price are likely to get more reviews."
   ]
  },
  {
   "cell_type": "code",
   "execution_count": null,
   "id": "09d1f123",
   "metadata": {},
   "outputs": [],
   "source": []
  }
 ],
 "metadata": {
  "kernelspec": {
   "display_name": "Python 3 (ipykernel)",
   "language": "python",
   "name": "python3"
  },
  "language_info": {
   "codemirror_mode": {
    "name": "ipython",
    "version": 3
   },
   "file_extension": ".py",
   "mimetype": "text/x-python",
   "name": "python",
   "nbconvert_exporter": "python",
   "pygments_lexer": "ipython3",
   "version": "3.10.9"
  }
 },
 "nbformat": 4,
 "nbformat_minor": 5
}
